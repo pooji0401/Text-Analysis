{
  "nbformat": 4,
  "nbformat_minor": 0,
  "metadata": {
    "kernelspec": {
      "display_name": "Python 3",
      "language": "python",
      "name": "python3"
    },
    "language_info": {
      "codemirror_mode": {
        "name": "ipython",
        "version": 3
      },
      "file_extension": ".py",
      "mimetype": "text/x-python",
      "name": "python",
      "nbconvert_exporter": "python",
      "pygments_lexer": "ipython3",
      "version": "3.6.5"
    },
    "colab": {
      "name": "ML_methods.ipynb",
      "provenance": [],
      "collapsed_sections": [],
      "toc_visible": true,
      "include_colab_link": true
    }
  },
  "cells": [
    {
      "cell_type": "markdown",
      "metadata": {
        "id": "view-in-github",
        "colab_type": "text"
      },
      "source": [
        "<a href=\"https://colab.research.google.com/github/pooji0401/Text-Analysis/blob/master/ML_methods.ipynb\" target=\"_parent\"><img src=\"https://colab.research.google.com/assets/colab-badge.svg\" alt=\"Open In Colab\"/></a>"
      ]
    },
    {
      "cell_type": "code",
      "metadata": {
        "id": "U4ZCYyoZUaR5",
        "colab_type": "code",
        "colab": {
          "base_uri": "https://localhost:8080/",
          "height": 70
        },
        "outputId": "704b8710-b727-4645-b32a-4e3c8b770510"
      },
      "source": [
        "import pandas as pd\n",
        "import numpy as np\n",
        "import seaborn as sns\n",
        "import matplotlib.pyplot as plt"
      ],
      "execution_count": 1,
      "outputs": [
        {
          "output_type": "stream",
          "text": [
            "/usr/local/lib/python3.6/dist-packages/statsmodels/tools/_testing.py:19: FutureWarning: pandas.util.testing is deprecated. Use the functions in the public API at pandas.testing instead.\n",
            "  import pandas.util.testing as tm\n"
          ],
          "name": "stderr"
        }
      ]
    },
    {
      "cell_type": "code",
      "metadata": {
        "id": "zo6OLn_zUd6y",
        "colab_type": "code",
        "colab": {
          "base_uri": "https://localhost:8080/",
          "height": 34
        },
        "outputId": "20d6b5d4-7882-4d0c-a2e6-fbf0685f0cdd"
      },
      "source": [
        "!pwd"
      ],
      "execution_count": 2,
      "outputs": [
        {
          "output_type": "stream",
          "text": [
            "/content\n"
          ],
          "name": "stdout"
        }
      ]
    },
    {
      "cell_type": "code",
      "metadata": {
        "id": "g2oxTsrpUaSI",
        "colab_type": "code",
        "colab": {
          "base_uri": "https://localhost:8080/",
          "height": 168
        },
        "outputId": "fc7b4354-4b0b-4dcd-b093-d2a2c970c51b"
      },
      "source": [
        "##imports\n",
        "import re, string\n",
        "import nltk\n",
        "nltk.download('stopwords')\n",
        "nltk.download('wordnet')\n",
        "nltk.download('punkt')\n",
        "nltk.download('averaged_perceptron_tagger')\n",
        "from nltk.corpus import stopwords \n",
        "stop_words = set(stopwords.words('english')) \n",
        "\n",
        "from nltk.stem import PorterStemmer\n",
        "from nltk.stem import WordNetLemmatizer\n",
        "\n",
        "from textblob import TextBlob\n",
        "from textblob import Word\n",
        "\n",
        "from sklearn.feature_extraction.text import TfidfVectorizer\n",
        "\n",
        "from sklearn.metrics import accuracy_score\n",
        "from sklearn.model_selection import cross_val_score\n",
        "from sklearn.model_selection import train_test_split\n",
        "from sklearn.model_selection import GridSearchCV\n",
        "\n",
        "from sklearn.naive_bayes import BernoulliNB\n",
        "from sklearn.ensemble import RandomForestClassifier\n",
        "from sklearn.neighbors import KNeighborsClassifier\n",
        "from sklearn.ensemble import VotingClassifier"
      ],
      "execution_count": 3,
      "outputs": [
        {
          "output_type": "stream",
          "text": [
            "[nltk_data] Downloading package stopwords to /root/nltk_data...\n",
            "[nltk_data]   Unzipping corpora/stopwords.zip.\n",
            "[nltk_data] Downloading package wordnet to /root/nltk_data...\n",
            "[nltk_data]   Unzipping corpora/wordnet.zip.\n",
            "[nltk_data] Downloading package punkt to /root/nltk_data...\n",
            "[nltk_data]   Unzipping tokenizers/punkt.zip.\n",
            "[nltk_data] Downloading package averaged_perceptron_tagger to\n",
            "[nltk_data]     /root/nltk_data...\n",
            "[nltk_data]   Unzipping taggers/averaged_perceptron_tagger.zip.\n"
          ],
          "name": "stdout"
        }
      ]
    },
    {
      "cell_type": "code",
      "metadata": {
        "id": "EFu2yQcyUaSS",
        "colab_type": "code",
        "colab": {
          "base_uri": "https://localhost:8080/",
          "height": 195
        },
        "outputId": "f06c956b-8eb5-4499-cd6c-6a200cd49904"
      },
      "source": [
        "df_fake = pd.read_csv('data/Fake.csv',engine='python',error_bad_lines=False)\n",
        "df_fake.head()"
      ],
      "execution_count": 36,
      "outputs": [
        {
          "output_type": "execute_result",
          "data": {
            "text/html": [
              "<div>\n",
              "<style scoped>\n",
              "    .dataframe tbody tr th:only-of-type {\n",
              "        vertical-align: middle;\n",
              "    }\n",
              "\n",
              "    .dataframe tbody tr th {\n",
              "        vertical-align: top;\n",
              "    }\n",
              "\n",
              "    .dataframe thead th {\n",
              "        text-align: right;\n",
              "    }\n",
              "</style>\n",
              "<table border=\"1\" class=\"dataframe\">\n",
              "  <thead>\n",
              "    <tr style=\"text-align: right;\">\n",
              "      <th></th>\n",
              "      <th>title</th>\n",
              "      <th>text</th>\n",
              "      <th>subject</th>\n",
              "      <th>date</th>\n",
              "    </tr>\n",
              "  </thead>\n",
              "  <tbody>\n",
              "    <tr>\n",
              "      <th>0</th>\n",
              "      <td>Donald Trump Sends Out Embarrassing New Year’...</td>\n",
              "      <td>Donald Trump just couldn t wish all Americans ...</td>\n",
              "      <td>News</td>\n",
              "      <td>December 31, 2017</td>\n",
              "    </tr>\n",
              "    <tr>\n",
              "      <th>1</th>\n",
              "      <td>Drunk Bragging Trump Staffer Started Russian ...</td>\n",
              "      <td>House Intelligence Committee Chairman Devin Nu...</td>\n",
              "      <td>News</td>\n",
              "      <td>December 31, 2017</td>\n",
              "    </tr>\n",
              "    <tr>\n",
              "      <th>2</th>\n",
              "      <td>Sheriff David Clarke Becomes An Internet Joke...</td>\n",
              "      <td>On Friday, it was revealed that former Milwauk...</td>\n",
              "      <td>News</td>\n",
              "      <td>December 30, 2017</td>\n",
              "    </tr>\n",
              "    <tr>\n",
              "      <th>3</th>\n",
              "      <td>Trump Is So Obsessed He Even Has Obama’s Name...</td>\n",
              "      <td>On Christmas day, Donald Trump announced that ...</td>\n",
              "      <td>News</td>\n",
              "      <td>December 29, 2017</td>\n",
              "    </tr>\n",
              "    <tr>\n",
              "      <th>4</th>\n",
              "      <td>Pope Francis Just Called Out Donald Trump Dur...</td>\n",
              "      <td>Pope Francis used his annual Christmas Day mes...</td>\n",
              "      <td>News</td>\n",
              "      <td>December 25, 2017</td>\n",
              "    </tr>\n",
              "  </tbody>\n",
              "</table>\n",
              "</div>"
            ],
            "text/plain": [
              "                                               title  ...               date\n",
              "0   Donald Trump Sends Out Embarrassing New Year’...  ...  December 31, 2017\n",
              "1   Drunk Bragging Trump Staffer Started Russian ...  ...  December 31, 2017\n",
              "2   Sheriff David Clarke Becomes An Internet Joke...  ...  December 30, 2017\n",
              "3   Trump Is So Obsessed He Even Has Obama’s Name...  ...  December 29, 2017\n",
              "4   Pope Francis Just Called Out Donald Trump Dur...  ...  December 25, 2017\n",
              "\n",
              "[5 rows x 4 columns]"
            ]
          },
          "metadata": {
            "tags": []
          },
          "execution_count": 36
        }
      ]
    },
    {
      "cell_type": "code",
      "metadata": {
        "id": "c2Kxq9gcUaSd",
        "colab_type": "code",
        "colab": {
          "base_uri": "https://localhost:8080/",
          "height": 195
        },
        "outputId": "6b43ab90-a998-42f6-eb27-8c4b409691d6"
      },
      "source": [
        "df_true = pd.read_csv('data/True.csv',engine='python',error_bad_lines=False)\n",
        "df_true.head()"
      ],
      "execution_count": 37,
      "outputs": [
        {
          "output_type": "execute_result",
          "data": {
            "text/html": [
              "<div>\n",
              "<style scoped>\n",
              "    .dataframe tbody tr th:only-of-type {\n",
              "        vertical-align: middle;\n",
              "    }\n",
              "\n",
              "    .dataframe tbody tr th {\n",
              "        vertical-align: top;\n",
              "    }\n",
              "\n",
              "    .dataframe thead th {\n",
              "        text-align: right;\n",
              "    }\n",
              "</style>\n",
              "<table border=\"1\" class=\"dataframe\">\n",
              "  <thead>\n",
              "    <tr style=\"text-align: right;\">\n",
              "      <th></th>\n",
              "      <th>title</th>\n",
              "      <th>text</th>\n",
              "      <th>subject</th>\n",
              "      <th>date</th>\n",
              "    </tr>\n",
              "  </thead>\n",
              "  <tbody>\n",
              "    <tr>\n",
              "      <th>0</th>\n",
              "      <td>As U.S. budget fight looms, Republicans flip t...</td>\n",
              "      <td>WASHINGTON (Reuters) - The head of a conservat...</td>\n",
              "      <td>politicsNews</td>\n",
              "      <td>December 31, 2017</td>\n",
              "    </tr>\n",
              "    <tr>\n",
              "      <th>1</th>\n",
              "      <td>U.S. military to accept transgender recruits o...</td>\n",
              "      <td>WASHINGTON (Reuters) - Transgender people will...</td>\n",
              "      <td>politicsNews</td>\n",
              "      <td>December 29, 2017</td>\n",
              "    </tr>\n",
              "    <tr>\n",
              "      <th>2</th>\n",
              "      <td>Senior U.S. Republican senator: 'Let Mr. Muell...</td>\n",
              "      <td>WASHINGTON (Reuters) - The special counsel inv...</td>\n",
              "      <td>politicsNews</td>\n",
              "      <td>December 31, 2017</td>\n",
              "    </tr>\n",
              "    <tr>\n",
              "      <th>3</th>\n",
              "      <td>FBI Russia probe helped by Australian diplomat...</td>\n",
              "      <td>WASHINGTON (Reuters) - Trump campaign adviser ...</td>\n",
              "      <td>politicsNews</td>\n",
              "      <td>December 30, 2017</td>\n",
              "    </tr>\n",
              "    <tr>\n",
              "      <th>4</th>\n",
              "      <td>Trump wants Postal Service to charge 'much mor...</td>\n",
              "      <td>SEATTLE/WASHINGTON (Reuters) - President Donal...</td>\n",
              "      <td>politicsNews</td>\n",
              "      <td>December 29, 2017</td>\n",
              "    </tr>\n",
              "  </tbody>\n",
              "</table>\n",
              "</div>"
            ],
            "text/plain": [
              "                                               title  ...                date\n",
              "0  As U.S. budget fight looms, Republicans flip t...  ...  December 31, 2017 \n",
              "1  U.S. military to accept transgender recruits o...  ...  December 29, 2017 \n",
              "2  Senior U.S. Republican senator: 'Let Mr. Muell...  ...  December 31, 2017 \n",
              "3  FBI Russia probe helped by Australian diplomat...  ...  December 30, 2017 \n",
              "4  Trump wants Postal Service to charge 'much mor...  ...  December 29, 2017 \n",
              "\n",
              "[5 rows x 4 columns]"
            ]
          },
          "metadata": {
            "tags": []
          },
          "execution_count": 37
        }
      ]
    },
    {
      "cell_type": "markdown",
      "metadata": {
        "id": "Q2_FNTQ1XI1d",
        "colab_type": "text"
      },
      "source": [
        "## Data Preprocessing and Feature Engineering\n",
        "Generally, for any predictive modelling task, before we fit our model  we clean our data -  remove nulls check for any class imbalance in the data.  </n>\n",
        "\n",
        "For text analysis, each word (or combination of words) acts like feature, thereby resulting in <b> curse of dimensionality reduction </b>. Therefore, cleaning text is an essential step. There is no hard and fast rule about this process. It generally depends on the domain of the application. For example, in some cases, we completely convert the text to lower case where the Capitalisation doesn't play any major role. In the case of Spam words, where most of the text is captilised, Another interesting example in this scenario would be the punctuation marks. In most of the spam msgs, there are a lot of punctuation marks like '!','*',etc. Hence, there are various permutations of such techniques to clean the text. \n",
        "\n",
        "Interestingly, we can derive more features from text before preprocessing. This can include the count of specific punctuation marks, or even sentiment scores - polarity/subjectivity scores.\n",
        "\n",
        "</n>\n",
        "\n",
        "In this example, we are going to implement some basic preprocessing steps and establish a baseline for our analysis. "
      ]
    },
    {
      "cell_type": "markdown",
      "metadata": {
        "id": "ztz-_Pd0j3iP",
        "colab_type": "text"
      },
      "source": [
        "### Checking for nulls"
      ]
    },
    {
      "cell_type": "code",
      "metadata": {
        "id": "JqphuHVsUaSp",
        "colab_type": "code",
        "colab": {
          "base_uri": "https://localhost:8080/",
          "height": 101
        },
        "outputId": "c3b92de8-d94c-440b-a5c0-938dab406185"
      },
      "source": [
        "df_true.isna().sum()"
      ],
      "execution_count": 38,
      "outputs": [
        {
          "output_type": "execute_result",
          "data": {
            "text/plain": [
              "title      0\n",
              "text       0\n",
              "subject    0\n",
              "date       0\n",
              "dtype: int64"
            ]
          },
          "metadata": {
            "tags": []
          },
          "execution_count": 38
        }
      ]
    },
    {
      "cell_type": "code",
      "metadata": {
        "id": "wUmzAJECUaSy",
        "colab_type": "code",
        "colab": {
          "base_uri": "https://localhost:8080/",
          "height": 101
        },
        "outputId": "c87c2d80-085d-4772-badb-3b52947fc00e"
      },
      "source": [
        "df_fake.isna().sum()"
      ],
      "execution_count": 39,
      "outputs": [
        {
          "output_type": "execute_result",
          "data": {
            "text/plain": [
              "title      0\n",
              "text       0\n",
              "subject    0\n",
              "date       0\n",
              "dtype: int64"
            ]
          },
          "metadata": {
            "tags": []
          },
          "execution_count": 39
        }
      ]
    },
    {
      "cell_type": "code",
      "metadata": {
        "id": "IvrVFn1oUaS7",
        "colab_type": "code",
        "colab": {}
      },
      "source": [
        "df_fake['label'] = [1]*len(df_fake)\n",
        "df_true['label'] = [0]*len(df_true)\n",
        "df_fake['num_words'] = df_fake['text'].apply(lambda x: len(x.split()))\n",
        "df_true['num_words'] = df_true['text'].apply(lambda x: len(x.split()))"
      ],
      "execution_count": 40,
      "outputs": []
    },
    {
      "cell_type": "markdown",
      "metadata": {
        "id": "cEgZyHJXj8_z",
        "colab_type": "text"
      },
      "source": [
        "### Checking for class imbalance and length imbalance\n",
        "\n",
        "Length imbalance in this case refers to the significant difference in the length of means of both classes of examples. We want the model to work equally good with lengthy sentences for both classes. \n",
        "\n",
        "In order to balance out the lengths, we remove the extremes in both classes - above 75th percentile (too long sentences) and below 25th percentile(too short sentences).  "
      ]
    },
    {
      "cell_type": "code",
      "metadata": {
        "id": "1itw-LkpUaTC",
        "colab_type": "code",
        "colab": {
          "base_uri": "https://localhost:8080/",
          "height": 284
        },
        "outputId": "f5dda1ba-b455-4e96-fbe7-0c29bd6b89ea"
      },
      "source": [
        "df_explore_words = pd.DataFrame(df_fake['num_words'].describe()).rename({'num_words':'fake_words'},axis=1)\n",
        "df_explore_words['True_words'] = df_true['num_words'].describe()\n",
        "df_explore_words"
      ],
      "execution_count": 41,
      "outputs": [
        {
          "output_type": "execute_result",
          "data": {
            "text/html": [
              "<div>\n",
              "<style scoped>\n",
              "    .dataframe tbody tr th:only-of-type {\n",
              "        vertical-align: middle;\n",
              "    }\n",
              "\n",
              "    .dataframe tbody tr th {\n",
              "        vertical-align: top;\n",
              "    }\n",
              "\n",
              "    .dataframe thead th {\n",
              "        text-align: right;\n",
              "    }\n",
              "</style>\n",
              "<table border=\"1\" class=\"dataframe\">\n",
              "  <thead>\n",
              "    <tr style=\"text-align: right;\">\n",
              "      <th></th>\n",
              "      <th>fake_words</th>\n",
              "      <th>True_words</th>\n",
              "    </tr>\n",
              "  </thead>\n",
              "  <tbody>\n",
              "    <tr>\n",
              "      <th>count</th>\n",
              "      <td>23481.000000</td>\n",
              "      <td>21417.000000</td>\n",
              "    </tr>\n",
              "    <tr>\n",
              "      <th>mean</th>\n",
              "      <td>423.197905</td>\n",
              "      <td>385.640099</td>\n",
              "    </tr>\n",
              "    <tr>\n",
              "      <th>std</th>\n",
              "      <td>408.388890</td>\n",
              "      <td>274.006204</td>\n",
              "    </tr>\n",
              "    <tr>\n",
              "      <th>min</th>\n",
              "      <td>0.000000</td>\n",
              "      <td>0.000000</td>\n",
              "    </tr>\n",
              "    <tr>\n",
              "      <th>25%</th>\n",
              "      <td>240.000000</td>\n",
              "      <td>148.000000</td>\n",
              "    </tr>\n",
              "    <tr>\n",
              "      <th>50%</th>\n",
              "      <td>363.000000</td>\n",
              "      <td>359.000000</td>\n",
              "    </tr>\n",
              "    <tr>\n",
              "      <th>75%</th>\n",
              "      <td>506.000000</td>\n",
              "      <td>525.000000</td>\n",
              "    </tr>\n",
              "    <tr>\n",
              "      <th>max</th>\n",
              "      <td>8135.000000</td>\n",
              "      <td>5172.000000</td>\n",
              "    </tr>\n",
              "  </tbody>\n",
              "</table>\n",
              "</div>"
            ],
            "text/plain": [
              "         fake_words    True_words\n",
              "count  23481.000000  21417.000000\n",
              "mean     423.197905    385.640099\n",
              "std      408.388890    274.006204\n",
              "min        0.000000      0.000000\n",
              "25%      240.000000    148.000000\n",
              "50%      363.000000    359.000000\n",
              "75%      506.000000    525.000000\n",
              "max     8135.000000   5172.000000"
            ]
          },
          "metadata": {
            "tags": []
          },
          "execution_count": 41
        }
      ]
    },
    {
      "cell_type": "code",
      "metadata": {
        "id": "uQvFNOOIUaTI",
        "colab_type": "code",
        "colab": {
          "base_uri": "https://localhost:8080/",
          "height": 34
        },
        "outputId": "47606276-6dbf-4be5-f6e7-a7d28dc14355"
      },
      "source": [
        "df_fake = df_fake[(df_fake['num_words']>=240)&(df_fake['num_words']<=506)]\n",
        "df_true = df_true[(df_true['num_words']>=148)&(df_true['num_words']<=525)]\n",
        "len(df_fake),len(df_true)"
      ],
      "execution_count": 42,
      "outputs": [
        {
          "output_type": "execute_result",
          "data": {
            "text/plain": [
              "(11772, 10731)"
            ]
          },
          "metadata": {
            "tags": []
          },
          "execution_count": 42
        }
      ]
    },
    {
      "cell_type": "code",
      "metadata": {
        "id": "m6ovehMdUaTO",
        "colab_type": "code",
        "colab": {
          "base_uri": "https://localhost:8080/",
          "height": 195
        },
        "outputId": "b889ad86-d0fe-40a2-b6a6-57ea85b9d427"
      },
      "source": [
        "df_total = pd.concat([df_fake,df_true],axis=0)\n",
        "df_total.head()"
      ],
      "execution_count": 43,
      "outputs": [
        {
          "output_type": "execute_result",
          "data": {
            "text/html": [
              "<div>\n",
              "<style scoped>\n",
              "    .dataframe tbody tr th:only-of-type {\n",
              "        vertical-align: middle;\n",
              "    }\n",
              "\n",
              "    .dataframe tbody tr th {\n",
              "        vertical-align: top;\n",
              "    }\n",
              "\n",
              "    .dataframe thead th {\n",
              "        text-align: right;\n",
              "    }\n",
              "</style>\n",
              "<table border=\"1\" class=\"dataframe\">\n",
              "  <thead>\n",
              "    <tr style=\"text-align: right;\">\n",
              "      <th></th>\n",
              "      <th>title</th>\n",
              "      <th>text</th>\n",
              "      <th>subject</th>\n",
              "      <th>date</th>\n",
              "      <th>label</th>\n",
              "      <th>num_words</th>\n",
              "    </tr>\n",
              "  </thead>\n",
              "  <tbody>\n",
              "    <tr>\n",
              "      <th>0</th>\n",
              "      <td>Donald Trump Sends Out Embarrassing New Year’...</td>\n",
              "      <td>Donald Trump just couldn t wish all Americans ...</td>\n",
              "      <td>News</td>\n",
              "      <td>December 31, 2017</td>\n",
              "      <td>1</td>\n",
              "      <td>495</td>\n",
              "    </tr>\n",
              "    <tr>\n",
              "      <th>1</th>\n",
              "      <td>Drunk Bragging Trump Staffer Started Russian ...</td>\n",
              "      <td>House Intelligence Committee Chairman Devin Nu...</td>\n",
              "      <td>News</td>\n",
              "      <td>December 31, 2017</td>\n",
              "      <td>1</td>\n",
              "      <td>305</td>\n",
              "    </tr>\n",
              "    <tr>\n",
              "      <th>3</th>\n",
              "      <td>Trump Is So Obsessed He Even Has Obama’s Name...</td>\n",
              "      <td>On Christmas day, Donald Trump announced that ...</td>\n",
              "      <td>News</td>\n",
              "      <td>December 29, 2017</td>\n",
              "      <td>1</td>\n",
              "      <td>444</td>\n",
              "    </tr>\n",
              "    <tr>\n",
              "      <th>4</th>\n",
              "      <td>Pope Francis Just Called Out Donald Trump Dur...</td>\n",
              "      <td>Pope Francis used his annual Christmas Day mes...</td>\n",
              "      <td>News</td>\n",
              "      <td>December 25, 2017</td>\n",
              "      <td>1</td>\n",
              "      <td>420</td>\n",
              "    </tr>\n",
              "    <tr>\n",
              "      <th>5</th>\n",
              "      <td>Racist Alabama Cops Brutalize Black Boy While...</td>\n",
              "      <td>The number of cases of cops brutalizing and ki...</td>\n",
              "      <td>News</td>\n",
              "      <td>December 25, 2017</td>\n",
              "      <td>1</td>\n",
              "      <td>312</td>\n",
              "    </tr>\n",
              "  </tbody>\n",
              "</table>\n",
              "</div>"
            ],
            "text/plain": [
              "                                               title  ... num_words\n",
              "0   Donald Trump Sends Out Embarrassing New Year’...  ...       495\n",
              "1   Drunk Bragging Trump Staffer Started Russian ...  ...       305\n",
              "3   Trump Is So Obsessed He Even Has Obama’s Name...  ...       444\n",
              "4   Pope Francis Just Called Out Donald Trump Dur...  ...       420\n",
              "5   Racist Alabama Cops Brutalize Black Boy While...  ...       312\n",
              "\n",
              "[5 rows x 6 columns]"
            ]
          },
          "metadata": {
            "tags": []
          },
          "execution_count": 43
        }
      ]
    },
    {
      "cell_type": "code",
      "metadata": {
        "id": "ZV2VZLMtUaTT",
        "colab_type": "code",
        "colab": {
          "base_uri": "https://localhost:8080/",
          "height": 515
        },
        "outputId": "2cceaace-1097-4932-f98c-c7c286289bb0"
      },
      "source": [
        "fig, ax = plt.subplots(figsize=(12,8))\n",
        "# plt.figure()\n",
        "sns.distplot(df_total[df_total['label']==1]['num_words'],color='red')\n",
        "sns.distplot(df_total[df_total['label']==0]['num_words'],color='blue')\n",
        "ax.vlines(250,*ax.get_ylim())\n",
        "ax.vlines(505,*ax.get_ylim())"
      ],
      "execution_count": 44,
      "outputs": [
        {
          "output_type": "execute_result",
          "data": {
            "text/plain": [
              "<matplotlib.collections.LineCollection at 0x7fc121121c18>"
            ]
          },
          "metadata": {
            "tags": []
          },
          "execution_count": 44
        },
        {
          "output_type": "display_data",
          "data": {
            "image/png": "[encoded data removed]",
            "text/plain": [
              "<Figure size 864x576 with 1 Axes>"
            ]
          },
          "metadata": {
            "tags": [],
            "needs_background": "light"
          }
        }
      ]
    },
    {
      "cell_type": "markdown",
      "metadata": {
        "id": "EHJhDzsOk_85",
        "colab_type": "text"
      },
      "source": [
        "We want to take the sequences with nearly same number of words in both the cases. As you can see, the common set of sentences have a range of 250 - 500 words."
      ]
    },
    {
      "cell_type": "code",
      "metadata": {
        "id": "w1EvXXrkUaTY",
        "colab_type": "code",
        "colab": {}
      },
      "source": [
        "df_total = df_total[(df_total['num_words']>=250)&(df_total['num_words']<=505)]"
      ],
      "execution_count": 45,
      "outputs": []
    },
    {
      "cell_type": "markdown",
      "metadata": {
        "id": "ljlimTE1lcIg",
        "colab_type": "text"
      },
      "source": [
        "Finally, we rebalance the number of records across both the classes."
      ]
    },
    {
      "cell_type": "code",
      "metadata": {
        "id": "9B45JeKCT_QD",
        "colab_type": "code",
        "colab": {}
      },
      "source": [
        "def rebalance_data(df):\n",
        "    label_0_len = len(df[df['label']==0])\n",
        "    label_1_len = len(df[df['label']==1])\n",
        "    min_len = min(label_0_len,label_1_len)\n",
        "\n",
        "    df_new_lab1 = df[df['label']==1].sample(min_len)\n",
        "    df_new_lab0 = df[df['label']==0].sample(min_len)\n",
        "\n",
        "    df=pd.concat([df_new_lab0,df_new_lab1])\n",
        "    df.reset_index(inplace=True,drop=True)\n",
        "    print('Total num of records after balancing ',len(df))\n",
        "    return df"
      ],
      "execution_count": 46,
      "outputs": []
    },
    {
      "cell_type": "code",
      "metadata": {
        "id": "Y2fN8EWaVT26",
        "colab_type": "code",
        "colab": {
          "base_uri": "https://localhost:8080/",
          "height": 34
        },
        "outputId": "eed7a7c7-4f2e-40d2-9e56-a065c5cbd2a6"
      },
      "source": [
        "df_total = rebalance_data(df_total)"
      ],
      "execution_count": 47,
      "outputs": [
        {
          "output_type": "stream",
          "text": [
            "Total num of records after balancing  16428\n"
          ],
          "name": "stdout"
        }
      ]
    },
    {
      "cell_type": "code",
      "metadata": {
        "id": "X0-ZFJPaVdPp",
        "colab_type": "code",
        "colab": {
          "base_uri": "https://localhost:8080/",
          "height": 67
        },
        "outputId": "c95814be-bcc8-438f-a855-1759197c4878"
      },
      "source": [
        "df_total.label.value_counts()"
      ],
      "execution_count": 48,
      "outputs": [
        {
          "output_type": "execute_result",
          "data": {
            "text/plain": [
              "1    8214\n",
              "0    8214\n",
              "Name: label, dtype: int64"
            ]
          },
          "metadata": {
            "tags": []
          },
          "execution_count": 48
        }
      ]
    },
    {
      "cell_type": "code",
      "metadata": {
        "id": "jnQCDWF8UaTd",
        "colab_type": "code",
        "colab": {
          "base_uri": "https://localhost:8080/",
          "height": 195
        },
        "outputId": "c8d289ba-daeb-4817-c66b-0fc4f6397c3b"
      },
      "source": [
        "df_total.head()"
      ],
      "execution_count": 49,
      "outputs": [
        {
          "output_type": "execute_result",
          "data": {
            "text/html": [
              "<div>\n",
              "<style scoped>\n",
              "    .dataframe tbody tr th:only-of-type {\n",
              "        vertical-align: middle;\n",
              "    }\n",
              "\n",
              "    .dataframe tbody tr th {\n",
              "        vertical-align: top;\n",
              "    }\n",
              "\n",
              "    .dataframe thead th {\n",
              "        text-align: right;\n",
              "    }\n",
              "</style>\n",
              "<table border=\"1\" class=\"dataframe\">\n",
              "  <thead>\n",
              "    <tr style=\"text-align: right;\">\n",
              "      <th></th>\n",
              "      <th>title</th>\n",
              "      <th>text</th>\n",
              "      <th>subject</th>\n",
              "      <th>date</th>\n",
              "      <th>label</th>\n",
              "      <th>num_words</th>\n",
              "    </tr>\n",
              "  </thead>\n",
              "  <tbody>\n",
              "    <tr>\n",
              "      <th>0</th>\n",
              "      <td>Palestinians may seek U.N. Assembly support if...</td>\n",
              "      <td>DUBAI (Reuters) - The Palestinian leadership m...</td>\n",
              "      <td>worldnews</td>\n",
              "      <td>December 18, 2017</td>\n",
              "      <td>0</td>\n",
              "      <td>469</td>\n",
              "    </tr>\n",
              "    <tr>\n",
              "      <th>1</th>\n",
              "      <td>South Korea postpones university exam after ra...</td>\n",
              "      <td>SEOUL (Reuters) - South Korea postponed its an...</td>\n",
              "      <td>worldnews</td>\n",
              "      <td>November 15, 2017</td>\n",
              "      <td>0</td>\n",
              "      <td>275</td>\n",
              "    </tr>\n",
              "    <tr>\n",
              "      <th>2</th>\n",
              "      <td>Puerto Rico's PREPA says will make full debt p...</td>\n",
              "      <td>SAN JUAN (Reuters) - Puerto Rico’s semi-public...</td>\n",
              "      <td>politicsNews</td>\n",
              "      <td>June 30, 2016</td>\n",
              "      <td>0</td>\n",
              "      <td>412</td>\n",
              "    </tr>\n",
              "    <tr>\n",
              "      <th>3</th>\n",
              "      <td>Trump delays announcement on whether U.S. emba...</td>\n",
              "      <td>ABOARD AIR FORCE ONE (Reuters) - President Don...</td>\n",
              "      <td>politicsNews</td>\n",
              "      <td>December 4, 2017</td>\n",
              "      <td>0</td>\n",
              "      <td>260</td>\n",
              "    </tr>\n",
              "    <tr>\n",
              "      <th>4</th>\n",
              "      <td>U.S. Senate panel approves controversial EPA n...</td>\n",
              "      <td>WASHINGTON (Reuters) - The Senate Environment ...</td>\n",
              "      <td>politicsNews</td>\n",
              "      <td>October 25, 2017</td>\n",
              "      <td>0</td>\n",
              "      <td>329</td>\n",
              "    </tr>\n",
              "  </tbody>\n",
              "</table>\n",
              "</div>"
            ],
            "text/plain": [
              "                                               title  ... num_words\n",
              "0  Palestinians may seek U.N. Assembly support if...  ...       469\n",
              "1  South Korea postpones university exam after ra...  ...       275\n",
              "2  Puerto Rico's PREPA says will make full debt p...  ...       412\n",
              "3  Trump delays announcement on whether U.S. emba...  ...       260\n",
              "4  U.S. Senate panel approves controversial EPA n...  ...       329\n",
              "\n",
              "[5 rows x 6 columns]"
            ]
          },
          "metadata": {
            "tags": []
          },
          "execution_count": 49
        }
      ]
    },
    {
      "cell_type": "code",
      "metadata": {
        "id": "pO-RdcE1UaTj",
        "colab_type": "code",
        "colab": {
          "base_uri": "https://localhost:8080/",
          "height": 195
        },
        "outputId": "d6f7b663-e0fb-4931-a611-8f395ad42d6a"
      },
      "source": [
        "df_final = df_total[['text','label']]\n",
        "df_final.reset_index(drop=True,inplace=True)\n",
        "df_final.head()"
      ],
      "execution_count": 50,
      "outputs": [
        {
          "output_type": "execute_result",
          "data": {
            "text/html": [
              "<div>\n",
              "<style scoped>\n",
              "    .dataframe tbody tr th:only-of-type {\n",
              "        vertical-align: middle;\n",
              "    }\n",
              "\n",
              "    .dataframe tbody tr th {\n",
              "        vertical-align: top;\n",
              "    }\n",
              "\n",
              "    .dataframe thead th {\n",
              "        text-align: right;\n",
              "    }\n",
              "</style>\n",
              "<table border=\"1\" class=\"dataframe\">\n",
              "  <thead>\n",
              "    <tr style=\"text-align: right;\">\n",
              "      <th></th>\n",
              "      <th>text</th>\n",
              "      <th>label</th>\n",
              "    </tr>\n",
              "  </thead>\n",
              "  <tbody>\n",
              "    <tr>\n",
              "      <th>0</th>\n",
              "      <td>DUBAI (Reuters) - The Palestinian leadership m...</td>\n",
              "      <td>0</td>\n",
              "    </tr>\n",
              "    <tr>\n",
              "      <th>1</th>\n",
              "      <td>SEOUL (Reuters) - South Korea postponed its an...</td>\n",
              "      <td>0</td>\n",
              "    </tr>\n",
              "    <tr>\n",
              "      <th>2</th>\n",
              "      <td>SAN JUAN (Reuters) - Puerto Rico’s semi-public...</td>\n",
              "      <td>0</td>\n",
              "    </tr>\n",
              "    <tr>\n",
              "      <th>3</th>\n",
              "      <td>ABOARD AIR FORCE ONE (Reuters) - President Don...</td>\n",
              "      <td>0</td>\n",
              "    </tr>\n",
              "    <tr>\n",
              "      <th>4</th>\n",
              "      <td>WASHINGTON (Reuters) - The Senate Environment ...</td>\n",
              "      <td>0</td>\n",
              "    </tr>\n",
              "  </tbody>\n",
              "</table>\n",
              "</div>"
            ],
            "text/plain": [
              "                                                text  label\n",
              "0  DUBAI (Reuters) - The Palestinian leadership m...      0\n",
              "1  SEOUL (Reuters) - South Korea postponed its an...      0\n",
              "2  SAN JUAN (Reuters) - Puerto Rico’s semi-public...      0\n",
              "3  ABOARD AIR FORCE ONE (Reuters) - President Don...      0\n",
              "4  WASHINGTON (Reuters) - The Senate Environment ...      0"
            ]
          },
          "metadata": {
            "tags": []
          },
          "execution_count": 50
        }
      ]
    },
    {
      "cell_type": "markdown",
      "metadata": {
        "id": "LINRynzAlnYa",
        "colab_type": "text"
      },
      "source": [
        "### Text Cleaning \n",
        "The steps followed for this step are as follows - \n",
        "1. Removing trailing white spaces\n",
        "2. Removing punctuations\n",
        "3. Removing stop words\n",
        "4. Lemmatize the word to the verb level \n",
        "5. Removing all the proper nouns in the sentence using POS tagger\n",
        "6. Converting the final filtered sentence to lower case\n",
        "\n",
        "Note that, For step 5 (filtering nouns) Casing is very important in order to identify the nouns and any other tags. Therefore, it is the last step in our cleaning pipeline. Therefore, the order of these steps is also very important and specific to out application"
      ]
    },
    {
      "cell_type": "code",
      "metadata": {
        "id": "MKrsP-ixUaTo",
        "colab_type": "code",
        "colab": {}
      },
      "source": [
        "def clean_lemma_text_blob(x):\n",
        "    regex = re.compile('[%s]' % re.escape(string.punctuation))\n",
        "    ## Removing Stop Words, Lemmatizing using Text Blob\n",
        "    #     x = x.lower() ## Lower Case Conversion\n",
        "    x = x.strip()\n",
        "    x = regex.sub('', x) ## Removing Punctuations\n",
        "    word_tokens = x.split()\n",
        "    filtered_sentence = [Word(i.lower()).lemmatize(\"v\") for i in word_tokens if not i in stop_words] \n",
        "    filtered_sentence = ' '.join(filtered_sentence)\n",
        "    if(len(filtered_sentence.split())>0):\n",
        "        p_blob = TextBlob(filtered_sentence)\n",
        "        m = np.array(p_blob.tags)\n",
        "#         m = m[(m[:,1]=='NN') | (m[:,1] =='JJ') | (m[:,1] =='VBP') | (m[:,1] =='VB') ]\n",
        "        m = m[~(m[:,1]=='NN')]\n",
        "        filtered_sentence = ' '.join(m[:,0])\n",
        "        filtered_sentence = filtered_sentence.lower()\n",
        "        return filtered_sentence\n",
        "    else:\n",
        "        return ''\n",
        "    "
      ],
      "execution_count": 51,
      "outputs": []
    },
    {
      "cell_type": "code",
      "metadata": {
        "id": "9qv2EYN3UaTt",
        "colab_type": "code",
        "colab": {}
      },
      "source": [
        "def clean_text_df(df):\n",
        "    df['text_noun_cleaned']=df['text'].apply(lambda x: clean_lemma_text_blob(x))\n",
        "    return df"
      ],
      "execution_count": 52,
      "outputs": []
    },
    {
      "cell_type": "markdown",
      "metadata": {
        "id": "rAQwBEMKnAAC",
        "colab_type": "text"
      },
      "source": [
        "### Feature Engineering \n",
        "\n",
        "In this case, we are adding sentiment features - polarity and subjectivity scores using Text Blob package. \n",
        "\n",
        "<b>Polarity</b> indicates the tone of the sentence - postive, neutral and negative. The scores are in the range of [-1,+1]. <b>Subjectivity</b> indicates how the subject is addressed in the sentence. The scores are in the range [0,1]\n",
        "\n",
        "Finally, we use the <b>Term-Frequency-Inverse-Document-Frequency TFIDF </b> to get the vectorised word features. Vectorization is the  process of turning a collection of text documents into numerical feature vectors. This specific strategy (tokenization, counting and normalization) is called the Bag of Words or <b>“Bag of n-grams”</b>representation. This method also helps us in eliminating most frequent words and rarely occuring words from the corpus. \n",
        "\n",
        "\n",
        "Therefore, the document is defined by the occurences and co-occurences of words , thereby completely ignoring the order of their appearance or any meaning associated with the position of the word. \n",
        "\n",
        "For example, consider the following statement \" Although he looks happy, he is actually not very happy about the performance of the model.\" A regular BOW model for sentiment classification would classify this statement to be positive because of the word \"HAPPY\" occuring twice in the statement. In reality, we know that this is not the case. \n",
        "\n",
        "However, it is a good approach to establish a baseline.\n",
        "\n",
        "\n"
      ]
    },
    {
      "cell_type": "code",
      "metadata": {
        "id": "IMCjjMvYUaTy",
        "colab_type": "code",
        "colab": {}
      },
      "source": [
        "def get_sentiment_features(df):\n",
        "    df['polarity']=df['text'].apply(lambda x:TextBlob(x).sentiment.polarity)\n",
        "    df['subjectivity']=df['text'].apply(lambda x:TextBlob(x).sentiment.subjectivity)\n",
        "    return df"
      ],
      "execution_count": 53,
      "outputs": []
    },
    {
      "cell_type": "markdown",
      "metadata": {
        "id": "1-bUnqfYsPI8",
        "colab_type": "text"
      },
      "source": [
        "Combining the vectorised features with the sentiment features in a dataframe"
      ]
    },
    {
      "cell_type": "code",
      "metadata": {
        "id": "DUUtEs7aUaT3",
        "colab_type": "code",
        "colab": {}
      },
      "source": [
        "## Retaining words (or combination of words) that occur in atleast 10% of documents or atmost 90% of documents\n",
        "def data_transformation(df,tfidf_params = [0.1,0.9]):\n",
        "    ## Tweaking parameters\n",
        "    vectorizer = TfidfVectorizer(min_df=tfidf_params[0],max_df=tfidf_params[1],ngram_range=(1,2),stop_words={'english'})\n",
        "    X = vectorizer.fit_transform(df['text_noun_cleaned'])\n",
        "    df_input = pd.DataFrame(X.toarray())\n",
        "    df_input.columns = vectorizer.get_feature_names()\n",
        "    if 'label' in df.columns:\n",
        "        df_input['label'] = df['label']\n",
        "    df_input['polarity'] = df['polarity']\n",
        "    df_input['subjectivity'] = df['subjectivity']\n",
        "    return df_input, vectorizer"
      ],
      "execution_count": 82,
      "outputs": []
    },
    {
      "cell_type": "markdown",
      "metadata": {
        "id": "vzH2EKN2tOXt",
        "colab_type": "text"
      },
      "source": [
        "## Model Selection and Model Evaluation\n",
        "In the following method, we try to fit multiple models - Bernoulli Naive Bayes, Random Forest Classifier, K-Nearest Neighbours and finally a Hard Voting Classifier using all the other mentioned classifiers.\n",
        "\n",
        "We use accuracy to tune these models independently and search for the best Hyperparameters using Grid Search Cross Validation technique. "
      ]
    },
    {
      "cell_type": "code",
      "metadata": {
        "id": "xTF7iYmZUaT-",
        "colab_type": "code",
        "colab": {}
      },
      "source": [
        "def model_selection(df_input):\n",
        "    results = {}\n",
        "    l = list(df_input.columns)\n",
        "    l.remove('label')\n",
        "    X_train, X_test, y_train, y_test = train_test_split(df_input[l], df_input['label'],\n",
        "                                                    test_size=0.33, random_state=42)\n",
        "    \n",
        "    ## BNB\n",
        "    clf_bnb = BernoulliNB().fit(X_train, y_train)\n",
        "    ypred=clf_bnb.predict(X_test)\n",
        "    acc_BNB = accuracy_score(y_test,ypred)\n",
        "    print(\"Accuracy for BNB model without any tuning: \", acc_BNB)\n",
        "    results[clf_bnb] = acc_BNB\n",
        "    \n",
        "    ## Random Forest\n",
        "    clf_rf = RandomForestClassifier(random_state=42)\n",
        "    param_grid = [{ \n",
        "        'n_estimators': np.arange(10,110,10),\n",
        "        'max_depth' : [4,5,6,7,8]\n",
        "    }]\n",
        "    CV_rf = GridSearchCV(estimator=clf_rf, param_grid=param_grid, cv= 5)\n",
        "    CV_rf.fit(X_train, y_train)\n",
        "    y_pred = CV_rf.predict(X_test)\n",
        "    acc_RF = accuracy_score(y_test,y_pred)\n",
        "    print(\"Accuracy for Random Forest after CV: \", acc_RF)\n",
        "    results[CV_rf] = acc_RF\n",
        "    \n",
        "    ## KNN\n",
        "    clf_knn = KNeighborsClassifier()\n",
        "    param_grid = [{ \n",
        "        'n_neighbors': np.arange(8,20)\n",
        "    }]\n",
        "    CV_knn= GridSearchCV(estimator=clf_knn, param_grid=param_grid, cv= 5)\n",
        "    CV_knn.fit(X_train, y_train)\n",
        "    y_pred = CV_knn.predict(X_test)\n",
        "    acc_KNN = accuracy_score(y_test,y_pred)\n",
        "    print(\"Accuracy for KNN after CV data: \",acc_KNN)\n",
        "    results[CV_knn] = acc_KNN\n",
        "    \n",
        "    ## Voting Classifier\n",
        "    eclf1 = VotingClassifier(estimators=[('nb', clf_bnb), ('rf', CV_rf), ('knn', CV_knn)], voting='hard')\n",
        "    eclf1 = eclf1.fit(X_train, y_train)\n",
        "    ypred = eclf1.predict(X_test)\n",
        "    acc_VC = accuracy_score(y_test,ypred)\n",
        "    print(\"Accuracy for voting classifier: \",acc_VC)\n",
        "    results[eclf1] = acc_VC\n",
        "    \n",
        "    best_estimator = max(results, key=lambda k: results[k])\n",
        "    return results,best_estimator\n",
        "    "
      ],
      "execution_count": 56,
      "outputs": []
    },
    {
      "cell_type": "code",
      "metadata": {
        "id": "acoGCNZ6UaUC",
        "colab_type": "code",
        "colab": {}
      },
      "source": [
        "# def train_pipeline(df):\n",
        "    ## Steps\n",
        "    # 1.Reading files\n",
        "#     df = read_files(filename)\n",
        "    # 2. Checking for imbalance in data\n",
        "#     df = rebalance_data(df)\n",
        "    # 3. Text Cleaning \n",
        "    # df = clean_text_df(df)\n",
        "    # # 4. Sentiment based features\n",
        "    # df = get_sentiment_features(df)\n",
        "    # # 5. Data Transformation\n",
        "    # df_input,vect = data_transformation(df)\n",
        "    # # 6. Model Selection \n",
        "    # trained_classifier = model_selection(df_input)\n",
        "    # return trained_classifier, vect"
      ],
      "execution_count": 57,
      "outputs": []
    },
    {
      "cell_type": "code",
      "metadata": {
        "id": "D65KDY4SUaUH",
        "colab_type": "code",
        "colab": {
          "base_uri": "https://localhost:8080/",
          "height": 118
        },
        "outputId": "d0167e1f-3596-471c-cc23-3b7b6474ad2d"
      },
      "source": [
        "# classifier,vect = train_pipeline(df_final)\n",
        "df_final = clean_text_df(df_final)"
      ],
      "execution_count": 58,
      "outputs": [
        {
          "output_type": "stream",
          "text": [
            "/usr/local/lib/python3.6/dist-packages/ipykernel_launcher.py:2: SettingWithCopyWarning: \n",
            "A value is trying to be set on a copy of a slice from a DataFrame.\n",
            "Try using .loc[row_indexer,col_indexer] = value instead\n",
            "\n",
            "See the caveats in the documentation: https://pandas.pydata.org/pandas-docs/stable/user_guide/indexing.html#returning-a-view-versus-a-copy\n",
            "  \n"
          ],
          "name": "stderr"
        }
      ]
    },
    {
      "cell_type": "code",
      "metadata": {
        "id": "Xb2lioO1UaUN",
        "colab_type": "code",
        "colab": {
          "base_uri": "https://localhost:8080/",
          "height": 195
        },
        "outputId": "c9b24520-1088-4ff1-bd30-40de547359fb"
      },
      "source": [
        "df_final.head()"
      ],
      "execution_count": 59,
      "outputs": [
        {
          "output_type": "execute_result",
          "data": {
            "text/html": [
              "<div>\n",
              "<style scoped>\n",
              "    .dataframe tbody tr th:only-of-type {\n",
              "        vertical-align: middle;\n",
              "    }\n",
              "\n",
              "    .dataframe tbody tr th {\n",
              "        vertical-align: top;\n",
              "    }\n",
              "\n",
              "    .dataframe thead th {\n",
              "        text-align: right;\n",
              "    }\n",
              "</style>\n",
              "<table border=\"1\" class=\"dataframe\">\n",
              "  <thead>\n",
              "    <tr style=\"text-align: right;\">\n",
              "      <th></th>\n",
              "      <th>text</th>\n",
              "      <th>label</th>\n",
              "      <th>text_noun_cleaned</th>\n",
              "    </tr>\n",
              "  </thead>\n",
              "  <tbody>\n",
              "    <tr>\n",
              "      <th>0</th>\n",
              "      <td>DUBAI (Reuters) - The Palestinian leadership m...</td>\n",
              "      <td>0</td>\n",
              "      <td>reuters the palestinian may turn un general un...</td>\n",
              "    </tr>\n",
              "    <tr>\n",
              "      <th>1</th>\n",
              "      <td>SEOUL (Reuters) - South Korea postponed its an...</td>\n",
              "      <td>0</td>\n",
              "      <td>reuters south korea annual rare rattle shake b...</td>\n",
              "    </tr>\n",
              "    <tr>\n",
              "      <th>2</th>\n",
              "      <td>SAN JUAN (Reuters) - Puerto Rico’s semi-public...</td>\n",
              "      <td>0</td>\n",
              "      <td>san reuters puerto rico ’ semipublic know thur...</td>\n",
              "    </tr>\n",
              "    <tr>\n",
              "      <th>3</th>\n",
              "      <td>ABOARD AIR FORCE ONE (Reuters) - President Don...</td>\n",
              "      <td>0</td>\n",
              "      <td>aboard one reuters whether move us embassy jer...</td>\n",
              "    </tr>\n",
              "    <tr>\n",
              "      <th>4</th>\n",
              "      <td>WASHINGTON (Reuters) - The Senate Environment ...</td>\n",
              "      <td>0</td>\n",
              "      <td>reuters the senate public wednesday approve fo...</td>\n",
              "    </tr>\n",
              "  </tbody>\n",
              "</table>\n",
              "</div>"
            ],
            "text/plain": [
              "                                                text  ...                                  text_noun_cleaned\n",
              "0  DUBAI (Reuters) - The Palestinian leadership m...  ...  reuters the palestinian may turn un general un...\n",
              "1  SEOUL (Reuters) - South Korea postponed its an...  ...  reuters south korea annual rare rattle shake b...\n",
              "2  SAN JUAN (Reuters) - Puerto Rico’s semi-public...  ...  san reuters puerto rico ’ semipublic know thur...\n",
              "3  ABOARD AIR FORCE ONE (Reuters) - President Don...  ...  aboard one reuters whether move us embassy jer...\n",
              "4  WASHINGTON (Reuters) - The Senate Environment ...  ...  reuters the senate public wednesday approve fo...\n",
              "\n",
              "[5 rows x 3 columns]"
            ]
          },
          "metadata": {
            "tags": []
          },
          "execution_count": 59
        }
      ]
    },
    {
      "cell_type": "code",
      "metadata": {
        "id": "uNDlsGU6ar_M",
        "colab_type": "code",
        "colab": {
          "base_uri": "https://localhost:8080/",
          "height": 218
        },
        "outputId": "724874f4-2b4d-427d-bb8c-ca6704b0434b"
      },
      "source": [
        "df_final = get_sentiment_features(df_final)"
      ],
      "execution_count": 60,
      "outputs": [
        {
          "output_type": "stream",
          "text": [
            "/usr/local/lib/python3.6/dist-packages/ipykernel_launcher.py:2: SettingWithCopyWarning: \n",
            "A value is trying to be set on a copy of a slice from a DataFrame.\n",
            "Try using .loc[row_indexer,col_indexer] = value instead\n",
            "\n",
            "See the caveats in the documentation: https://pandas.pydata.org/pandas-docs/stable/user_guide/indexing.html#returning-a-view-versus-a-copy\n",
            "  \n",
            "/usr/local/lib/python3.6/dist-packages/ipykernel_launcher.py:3: SettingWithCopyWarning: \n",
            "A value is trying to be set on a copy of a slice from a DataFrame.\n",
            "Try using .loc[row_indexer,col_indexer] = value instead\n",
            "\n",
            "See the caveats in the documentation: https://pandas.pydata.org/pandas-docs/stable/user_guide/indexing.html#returning-a-view-versus-a-copy\n",
            "  This is separate from the ipykernel package so we can avoid doing imports until\n"
          ],
          "name": "stderr"
        }
      ]
    },
    {
      "cell_type": "code",
      "metadata": {
        "id": "DG4E1T6jUaUS",
        "colab_type": "code",
        "colab": {}
      },
      "source": [
        "df_input,vect = data_transformation(df_final)"
      ],
      "execution_count": 83,
      "outputs": []
    },
    {
      "cell_type": "code",
      "metadata": {
        "id": "bQ6SizMUuhgW",
        "colab_type": "code",
        "colab": {
          "base_uri": "https://localhost:8080/",
          "height": 261
        },
        "outputId": "688aa443-3ba5-479a-e500-84eaa5e7f151"
      },
      "source": [
        "df_input.head()"
      ],
      "execution_count": 84,
      "outputs": [
        {
          "output_type": "execute_result",
          "data": {
            "text/html": [
              "<div>\n",
              "<style scoped>\n",
              "    .dataframe tbody tr th:only-of-type {\n",
              "        vertical-align: middle;\n",
              "    }\n",
              "\n",
              "    .dataframe tbody tr th {\n",
              "        vertical-align: top;\n",
              "    }\n",
              "\n",
              "    .dataframe thead th {\n",
              "        text-align: right;\n",
              "    }\n",
              "</style>\n",
              "<table border=\"1\" class=\"dataframe\">\n",
              "  <thead>\n",
              "    <tr style=\"text-align: right;\">\n",
              "      <th></th>\n",
              "      <th>2016</th>\n",
              "      <th>add</th>\n",
              "      <th>allow</th>\n",
              "      <th>already</th>\n",
              "      <th>also</th>\n",
              "      <th>america</th>\n",
              "      <th>american</th>\n",
              "      <th>americans</th>\n",
              "      <th>among</th>\n",
              "      <th>and</th>\n",
              "      <th>another</th>\n",
              "      <th>appear</th>\n",
              "      <th>around</th>\n",
              "      <th>as</th>\n",
              "      <th>ask</th>\n",
              "      <th>back</th>\n",
              "      <th>become</th>\n",
              "      <th>believe</th>\n",
              "      <th>but</th>\n",
              "      <th>call</th>\n",
              "      <th>clear</th>\n",
              "      <th>close</th>\n",
              "      <th>come</th>\n",
              "      <th>continue</th>\n",
              "      <th>could</th>\n",
              "      <th>countries</th>\n",
              "      <th>days</th>\n",
              "      <th>democratic</th>\n",
              "      <th>democrats</th>\n",
              "      <th>do</th>\n",
              "      <th>donald</th>\n",
              "      <th>donald trump</th>\n",
              "      <th>earlier</th>\n",
              "      <th>even</th>\n",
              "      <th>every</th>\n",
              "      <th>expect</th>\n",
              "      <th>far</th>\n",
              "      <th>federal</th>\n",
              "      <th>find</th>\n",
              "      <th>first</th>\n",
              "      <th>...</th>\n",
              "      <th>set</th>\n",
              "      <th>several</th>\n",
              "      <th>show</th>\n",
              "      <th>since</th>\n",
              "      <th>speak</th>\n",
              "      <th>still</th>\n",
              "      <th>take</th>\n",
              "      <th>tell</th>\n",
              "      <th>that</th>\n",
              "      <th>the</th>\n",
              "      <th>there</th>\n",
              "      <th>they</th>\n",
              "      <th>think</th>\n",
              "      <th>this</th>\n",
              "      <th>though</th>\n",
              "      <th>three</th>\n",
              "      <th>thursday</th>\n",
              "      <th>top</th>\n",
              "      <th>trump</th>\n",
              "      <th>try</th>\n",
              "      <th>tuesday</th>\n",
              "      <th>two</th>\n",
              "      <th>unite</th>\n",
              "      <th>us</th>\n",
              "      <th>use</th>\n",
              "      <th>via</th>\n",
              "      <th>want</th>\n",
              "      <th>we</th>\n",
              "      <th>wednesday</th>\n",
              "      <th>well</th>\n",
              "      <th>whether</th>\n",
              "      <th>white</th>\n",
              "      <th>without</th>\n",
              "      <th>would</th>\n",
              "      <th>write</th>\n",
              "      <th>years</th>\n",
              "      <th>you</th>\n",
              "      <th>label</th>\n",
              "      <th>polarity</th>\n",
              "      <th>subjectivity</th>\n",
              "    </tr>\n",
              "  </thead>\n",
              "  <tbody>\n",
              "    <tr>\n",
              "      <th>0</th>\n",
              "      <td>0.0</td>\n",
              "      <td>0.0</td>\n",
              "      <td>0.0</td>\n",
              "      <td>0.0</td>\n",
              "      <td>0.0</td>\n",
              "      <td>0.0</td>\n",
              "      <td>0.0</td>\n",
              "      <td>0.0</td>\n",
              "      <td>0.129412</td>\n",
              "      <td>0.0</td>\n",
              "      <td>0.000000</td>\n",
              "      <td>0.0</td>\n",
              "      <td>0.0</td>\n",
              "      <td>0.0</td>\n",
              "      <td>0.115007</td>\n",
              "      <td>0.0</td>\n",
              "      <td>0.0</td>\n",
              "      <td>0.0</td>\n",
              "      <td>0.096629</td>\n",
              "      <td>0.00000</td>\n",
              "      <td>0.000000</td>\n",
              "      <td>0.0</td>\n",
              "      <td>0.000000</td>\n",
              "      <td>0.0</td>\n",
              "      <td>0.084636</td>\n",
              "      <td>0.0</td>\n",
              "      <td>0.000000</td>\n",
              "      <td>0.0</td>\n",
              "      <td>0.0</td>\n",
              "      <td>0.000000</td>\n",
              "      <td>0.086278</td>\n",
              "      <td>0.107368</td>\n",
              "      <td>0.0</td>\n",
              "      <td>0.0</td>\n",
              "      <td>0.000000</td>\n",
              "      <td>0.120727</td>\n",
              "      <td>0.0</td>\n",
              "      <td>0.000000</td>\n",
              "      <td>0.0</td>\n",
              "      <td>0.000000</td>\n",
              "      <td>...</td>\n",
              "      <td>0.0</td>\n",
              "      <td>0.0</td>\n",
              "      <td>0.0</td>\n",
              "      <td>0.000000</td>\n",
              "      <td>0.0</td>\n",
              "      <td>0.000000</td>\n",
              "      <td>0.074256</td>\n",
              "      <td>0.000000</td>\n",
              "      <td>0.0</td>\n",
              "      <td>0.238552</td>\n",
              "      <td>0.0</td>\n",
              "      <td>0.000000</td>\n",
              "      <td>0.0</td>\n",
              "      <td>0.0</td>\n",
              "      <td>0.0</td>\n",
              "      <td>0.0</td>\n",
              "      <td>0.000000</td>\n",
              "      <td>0.128009</td>\n",
              "      <td>0.074342</td>\n",
              "      <td>0.0</td>\n",
              "      <td>0.0</td>\n",
              "      <td>0.000000</td>\n",
              "      <td>0.452424</td>\n",
              "      <td>0.340613</td>\n",
              "      <td>0.0</td>\n",
              "      <td>0.0</td>\n",
              "      <td>0.091971</td>\n",
              "      <td>0.088469</td>\n",
              "      <td>0.000000</td>\n",
              "      <td>0.108684</td>\n",
              "      <td>0.000000</td>\n",
              "      <td>0.000000</td>\n",
              "      <td>0.0</td>\n",
              "      <td>0.000000</td>\n",
              "      <td>0.0</td>\n",
              "      <td>0.0</td>\n",
              "      <td>0.0</td>\n",
              "      <td>0</td>\n",
              "      <td>0.021023</td>\n",
              "      <td>0.336553</td>\n",
              "    </tr>\n",
              "    <tr>\n",
              "      <th>1</th>\n",
              "      <td>0.0</td>\n",
              "      <td>0.0</td>\n",
              "      <td>0.0</td>\n",
              "      <td>0.0</td>\n",
              "      <td>0.0</td>\n",
              "      <td>0.0</td>\n",
              "      <td>0.0</td>\n",
              "      <td>0.0</td>\n",
              "      <td>0.000000</td>\n",
              "      <td>0.0</td>\n",
              "      <td>0.000000</td>\n",
              "      <td>0.0</td>\n",
              "      <td>0.0</td>\n",
              "      <td>0.0</td>\n",
              "      <td>0.000000</td>\n",
              "      <td>0.0</td>\n",
              "      <td>0.0</td>\n",
              "      <td>0.0</td>\n",
              "      <td>0.000000</td>\n",
              "      <td>0.00000</td>\n",
              "      <td>0.000000</td>\n",
              "      <td>0.0</td>\n",
              "      <td>0.126625</td>\n",
              "      <td>0.0</td>\n",
              "      <td>0.000000</td>\n",
              "      <td>0.0</td>\n",
              "      <td>0.185191</td>\n",
              "      <td>0.0</td>\n",
              "      <td>0.0</td>\n",
              "      <td>0.000000</td>\n",
              "      <td>0.000000</td>\n",
              "      <td>0.000000</td>\n",
              "      <td>0.0</td>\n",
              "      <td>0.0</td>\n",
              "      <td>0.000000</td>\n",
              "      <td>0.179039</td>\n",
              "      <td>0.0</td>\n",
              "      <td>0.000000</td>\n",
              "      <td>0.0</td>\n",
              "      <td>0.135203</td>\n",
              "      <td>...</td>\n",
              "      <td>0.0</td>\n",
              "      <td>0.0</td>\n",
              "      <td>0.0</td>\n",
              "      <td>0.000000</td>\n",
              "      <td>0.0</td>\n",
              "      <td>0.165845</td>\n",
              "      <td>0.110122</td>\n",
              "      <td>0.138325</td>\n",
              "      <td>0.0</td>\n",
              "      <td>0.353774</td>\n",
              "      <td>0.0</td>\n",
              "      <td>0.000000</td>\n",
              "      <td>0.0</td>\n",
              "      <td>0.0</td>\n",
              "      <td>0.0</td>\n",
              "      <td>0.0</td>\n",
              "      <td>0.000000</td>\n",
              "      <td>0.000000</td>\n",
              "      <td>0.000000</td>\n",
              "      <td>0.0</td>\n",
              "      <td>0.0</td>\n",
              "      <td>0.000000</td>\n",
              "      <td>0.000000</td>\n",
              "      <td>0.000000</td>\n",
              "      <td>0.0</td>\n",
              "      <td>0.0</td>\n",
              "      <td>0.000000</td>\n",
              "      <td>0.000000</td>\n",
              "      <td>0.000000</td>\n",
              "      <td>0.000000</td>\n",
              "      <td>0.000000</td>\n",
              "      <td>0.000000</td>\n",
              "      <td>0.0</td>\n",
              "      <td>0.189198</td>\n",
              "      <td>0.0</td>\n",
              "      <td>0.0</td>\n",
              "      <td>0.0</td>\n",
              "      <td>0</td>\n",
              "      <td>0.083173</td>\n",
              "      <td>0.446154</td>\n",
              "    </tr>\n",
              "    <tr>\n",
              "      <th>2</th>\n",
              "      <td>0.0</td>\n",
              "      <td>0.0</td>\n",
              "      <td>0.0</td>\n",
              "      <td>0.0</td>\n",
              "      <td>0.0</td>\n",
              "      <td>0.0</td>\n",
              "      <td>0.0</td>\n",
              "      <td>0.0</td>\n",
              "      <td>0.000000</td>\n",
              "      <td>0.0</td>\n",
              "      <td>0.182841</td>\n",
              "      <td>0.0</td>\n",
              "      <td>0.0</td>\n",
              "      <td>0.0</td>\n",
              "      <td>0.000000</td>\n",
              "      <td>0.0</td>\n",
              "      <td>0.0</td>\n",
              "      <td>0.0</td>\n",
              "      <td>0.052054</td>\n",
              "      <td>0.00000</td>\n",
              "      <td>0.000000</td>\n",
              "      <td>0.0</td>\n",
              "      <td>0.000000</td>\n",
              "      <td>0.0</td>\n",
              "      <td>0.000000</td>\n",
              "      <td>0.0</td>\n",
              "      <td>0.000000</td>\n",
              "      <td>0.0</td>\n",
              "      <td>0.0</td>\n",
              "      <td>0.000000</td>\n",
              "      <td>0.000000</td>\n",
              "      <td>0.000000</td>\n",
              "      <td>0.0</td>\n",
              "      <td>0.0</td>\n",
              "      <td>0.000000</td>\n",
              "      <td>0.065035</td>\n",
              "      <td>0.0</td>\n",
              "      <td>0.123484</td>\n",
              "      <td>0.0</td>\n",
              "      <td>0.000000</td>\n",
              "      <td>...</td>\n",
              "      <td>0.0</td>\n",
              "      <td>0.0</td>\n",
              "      <td>0.0</td>\n",
              "      <td>0.051059</td>\n",
              "      <td>0.0</td>\n",
              "      <td>0.000000</td>\n",
              "      <td>0.000000</td>\n",
              "      <td>0.000000</td>\n",
              "      <td>0.0</td>\n",
              "      <td>0.051403</td>\n",
              "      <td>0.0</td>\n",
              "      <td>0.000000</td>\n",
              "      <td>0.0</td>\n",
              "      <td>0.0</td>\n",
              "      <td>0.0</td>\n",
              "      <td>0.0</td>\n",
              "      <td>0.200227</td>\n",
              "      <td>0.000000</td>\n",
              "      <td>0.000000</td>\n",
              "      <td>0.0</td>\n",
              "      <td>0.0</td>\n",
              "      <td>0.000000</td>\n",
              "      <td>0.000000</td>\n",
              "      <td>0.073395</td>\n",
              "      <td>0.0</td>\n",
              "      <td>0.0</td>\n",
              "      <td>0.000000</td>\n",
              "      <td>0.000000</td>\n",
              "      <td>0.065654</td>\n",
              "      <td>0.058548</td>\n",
              "      <td>0.063208</td>\n",
              "      <td>0.000000</td>\n",
              "      <td>0.0</td>\n",
              "      <td>0.103089</td>\n",
              "      <td>0.0</td>\n",
              "      <td>0.0</td>\n",
              "      <td>0.0</td>\n",
              "      <td>0</td>\n",
              "      <td>0.035335</td>\n",
              "      <td>0.372081</td>\n",
              "    </tr>\n",
              "    <tr>\n",
              "      <th>3</th>\n",
              "      <td>0.0</td>\n",
              "      <td>0.0</td>\n",
              "      <td>0.0</td>\n",
              "      <td>0.0</td>\n",
              "      <td>0.0</td>\n",
              "      <td>0.0</td>\n",
              "      <td>0.0</td>\n",
              "      <td>0.0</td>\n",
              "      <td>0.000000</td>\n",
              "      <td>0.0</td>\n",
              "      <td>0.138073</td>\n",
              "      <td>0.0</td>\n",
              "      <td>0.0</td>\n",
              "      <td>0.0</td>\n",
              "      <td>0.000000</td>\n",
              "      <td>0.0</td>\n",
              "      <td>0.0</td>\n",
              "      <td>0.0</td>\n",
              "      <td>0.117927</td>\n",
              "      <td>0.00000</td>\n",
              "      <td>0.151614</td>\n",
              "      <td>0.0</td>\n",
              "      <td>0.104203</td>\n",
              "      <td>0.0</td>\n",
              "      <td>0.103290</td>\n",
              "      <td>0.0</td>\n",
              "      <td>0.152398</td>\n",
              "      <td>0.0</td>\n",
              "      <td>0.0</td>\n",
              "      <td>0.155167</td>\n",
              "      <td>0.000000</td>\n",
              "      <td>0.000000</td>\n",
              "      <td>0.0</td>\n",
              "      <td>0.0</td>\n",
              "      <td>0.152078</td>\n",
              "      <td>0.147336</td>\n",
              "      <td>0.0</td>\n",
              "      <td>0.000000</td>\n",
              "      <td>0.0</td>\n",
              "      <td>0.000000</td>\n",
              "      <td>...</td>\n",
              "      <td>0.0</td>\n",
              "      <td>0.0</td>\n",
              "      <td>0.0</td>\n",
              "      <td>0.231346</td>\n",
              "      <td>0.0</td>\n",
              "      <td>0.000000</td>\n",
              "      <td>0.000000</td>\n",
              "      <td>0.000000</td>\n",
              "      <td>0.0</td>\n",
              "      <td>0.116452</td>\n",
              "      <td>0.0</td>\n",
              "      <td>0.132737</td>\n",
              "      <td>0.0</td>\n",
              "      <td>0.0</td>\n",
              "      <td>0.0</td>\n",
              "      <td>0.0</td>\n",
              "      <td>0.000000</td>\n",
              "      <td>0.000000</td>\n",
              "      <td>0.181454</td>\n",
              "      <td>0.0</td>\n",
              "      <td>0.0</td>\n",
              "      <td>0.000000</td>\n",
              "      <td>0.000000</td>\n",
              "      <td>0.332549</td>\n",
              "      <td>0.0</td>\n",
              "      <td>0.0</td>\n",
              "      <td>0.112241</td>\n",
              "      <td>0.000000</td>\n",
              "      <td>0.000000</td>\n",
              "      <td>0.000000</td>\n",
              "      <td>0.286393</td>\n",
              "      <td>0.239636</td>\n",
              "      <td>0.0</td>\n",
              "      <td>0.155696</td>\n",
              "      <td>0.0</td>\n",
              "      <td>0.0</td>\n",
              "      <td>0.0</td>\n",
              "      <td>0</td>\n",
              "      <td>0.001563</td>\n",
              "      <td>0.314583</td>\n",
              "    </tr>\n",
              "    <tr>\n",
              "      <th>4</th>\n",
              "      <td>0.0</td>\n",
              "      <td>0.0</td>\n",
              "      <td>0.0</td>\n",
              "      <td>0.0</td>\n",
              "      <td>0.0</td>\n",
              "      <td>0.0</td>\n",
              "      <td>0.0</td>\n",
              "      <td>0.0</td>\n",
              "      <td>0.000000</td>\n",
              "      <td>0.0</td>\n",
              "      <td>0.000000</td>\n",
              "      <td>0.0</td>\n",
              "      <td>0.0</td>\n",
              "      <td>0.0</td>\n",
              "      <td>0.000000</td>\n",
              "      <td>0.0</td>\n",
              "      <td>0.0</td>\n",
              "      <td>0.0</td>\n",
              "      <td>0.000000</td>\n",
              "      <td>0.15479</td>\n",
              "      <td>0.000000</td>\n",
              "      <td>0.0</td>\n",
              "      <td>0.000000</td>\n",
              "      <td>0.0</td>\n",
              "      <td>0.000000</td>\n",
              "      <td>0.0</td>\n",
              "      <td>0.000000</td>\n",
              "      <td>0.0</td>\n",
              "      <td>0.0</td>\n",
              "      <td>0.000000</td>\n",
              "      <td>0.121499</td>\n",
              "      <td>0.151199</td>\n",
              "      <td>0.0</td>\n",
              "      <td>0.0</td>\n",
              "      <td>0.000000</td>\n",
              "      <td>0.000000</td>\n",
              "      <td>0.0</td>\n",
              "      <td>0.000000</td>\n",
              "      <td>0.0</td>\n",
              "      <td>0.000000</td>\n",
              "      <td>...</td>\n",
              "      <td>0.0</td>\n",
              "      <td>0.0</td>\n",
              "      <td>0.0</td>\n",
              "      <td>0.000000</td>\n",
              "      <td>0.0</td>\n",
              "      <td>0.000000</td>\n",
              "      <td>0.000000</td>\n",
              "      <td>0.000000</td>\n",
              "      <td>0.0</td>\n",
              "      <td>0.134374</td>\n",
              "      <td>0.0</td>\n",
              "      <td>0.000000</td>\n",
              "      <td>0.0</td>\n",
              "      <td>0.0</td>\n",
              "      <td>0.0</td>\n",
              "      <td>0.0</td>\n",
              "      <td>0.000000</td>\n",
              "      <td>0.000000</td>\n",
              "      <td>0.104690</td>\n",
              "      <td>0.0</td>\n",
              "      <td>0.0</td>\n",
              "      <td>0.124757</td>\n",
              "      <td>0.000000</td>\n",
              "      <td>0.000000</td>\n",
              "      <td>0.0</td>\n",
              "      <td>0.0</td>\n",
              "      <td>0.000000</td>\n",
              "      <td>0.000000</td>\n",
              "      <td>0.171627</td>\n",
              "      <td>0.000000</td>\n",
              "      <td>0.000000</td>\n",
              "      <td>0.000000</td>\n",
              "      <td>0.0</td>\n",
              "      <td>0.089829</td>\n",
              "      <td>0.0</td>\n",
              "      <td>0.0</td>\n",
              "      <td>0.0</td>\n",
              "      <td>0</td>\n",
              "      <td>0.198684</td>\n",
              "      <td>0.437281</td>\n",
              "    </tr>\n",
              "  </tbody>\n",
              "</table>\n",
              "<p>5 rows × 157 columns</p>\n",
              "</div>"
            ],
            "text/plain": [
              "   2016  add  allow  already  also  ...  years  you  label  polarity  subjectivity\n",
              "0   0.0  0.0    0.0      0.0   0.0  ...    0.0  0.0      0  0.021023      0.336553\n",
              "1   0.0  0.0    0.0      0.0   0.0  ...    0.0  0.0      0  0.083173      0.446154\n",
              "2   0.0  0.0    0.0      0.0   0.0  ...    0.0  0.0      0  0.035335      0.372081\n",
              "3   0.0  0.0    0.0      0.0   0.0  ...    0.0  0.0      0  0.001563      0.314583\n",
              "4   0.0  0.0    0.0      0.0   0.0  ...    0.0  0.0      0  0.198684      0.437281\n",
              "\n",
              "[5 rows x 157 columns]"
            ]
          },
          "metadata": {
            "tags": []
          },
          "execution_count": 84
        }
      ]
    },
    {
      "cell_type": "code",
      "metadata": {
        "id": "kCEZA-aDUaUc",
        "colab_type": "code",
        "colab": {
          "base_uri": "https://localhost:8080/",
          "height": 84
        },
        "outputId": "e54f771c-8b7f-4358-fdd6-c8b58b87e923"
      },
      "source": [
        "results,trained_classifier = model_selection(df_input)"
      ],
      "execution_count": 64,
      "outputs": [
        {
          "output_type": "stream",
          "text": [
            "Accuracy for BNB model without any tuning:  0.9850608631501291\n",
            "Accuracy for Random Forest after CV:  0.9948358539284397\n",
            "Accuracy for KNN after CV data:  0.883253412025083\n",
            "Accuracy for voting classifier:  0.9878273699741793\n"
          ],
          "name": "stdout"
        }
      ]
    },
    {
      "cell_type": "markdown",
      "metadata": {
        "id": "k2lrNFZhxXem",
        "colab_type": "text"
      },
      "source": [
        "Checking the feature importances of the best model - Random Forest Model"
      ]
    },
    {
      "cell_type": "code",
      "metadata": {
        "id": "zSmLWJ9CUaUh",
        "colab_type": "code",
        "colab": {}
      },
      "source": [
        "## Random Forest Estimator\n",
        "rf_gridsearch_est = list(results.keys())[1]"
      ],
      "execution_count": 69,
      "outputs": []
    },
    {
      "cell_type": "code",
      "metadata": {
        "id": "zkSMExqgdg1f",
        "colab_type": "code",
        "colab": {
          "base_uri": "https://localhost:8080/",
          "height": 343
        },
        "outputId": "4c8a1d90-93cf-4f6d-bb95-cee192b0836a"
      },
      "source": [
        "df_feature_importances = pd.DataFrame()\n",
        "l = list(df_input.columns)\n",
        "l.remove('label')\n",
        "df_feature_importances['Features'] = l\n",
        "df_feature_importances['Feature Importances']=rf_gridsearch_est.best_estimator_.feature_importances_\n",
        "df_feature_importances.sort_values(by='Feature Importances',ascending=False).head(10)"
      ],
      "execution_count": 79,
      "outputs": [
        {
          "output_type": "execute_result",
          "data": {
            "text/html": [
              "<div>\n",
              "<style scoped>\n",
              "    .dataframe tbody tr th:only-of-type {\n",
              "        vertical-align: middle;\n",
              "    }\n",
              "\n",
              "    .dataframe tbody tr th {\n",
              "        vertical-align: top;\n",
              "    }\n",
              "\n",
              "    .dataframe thead th {\n",
              "        text-align: right;\n",
              "    }\n",
              "</style>\n",
              "<table border=\"1\" class=\"dataframe\">\n",
              "  <thead>\n",
              "    <tr style=\"text-align: right;\">\n",
              "      <th></th>\n",
              "      <th>Features</th>\n",
              "      <th>Feature Importances</th>\n",
              "    </tr>\n",
              "  </thead>\n",
              "  <tbody>\n",
              "    <tr>\n",
              "      <th>109</th>\n",
              "      <td>reuters</td>\n",
              "      <td>0.395703</td>\n",
              "    </tr>\n",
              "    <tr>\n",
              "      <th>142</th>\n",
              "      <td>via</td>\n",
              "      <td>0.106189</td>\n",
              "    </tr>\n",
              "    <tr>\n",
              "      <th>112</th>\n",
              "      <td>say</td>\n",
              "      <td>0.081437</td>\n",
              "    </tr>\n",
              "    <tr>\n",
              "      <th>155</th>\n",
              "      <td>subjectivity</td>\n",
              "      <td>0.053683</td>\n",
              "    </tr>\n",
              "    <tr>\n",
              "      <th>69</th>\n",
              "      <td>like</td>\n",
              "      <td>0.031325</td>\n",
              "    </tr>\n",
              "    <tr>\n",
              "      <th>47</th>\n",
              "      <td>go</td>\n",
              "      <td>0.026954</td>\n",
              "    </tr>\n",
              "    <tr>\n",
              "      <th>126</th>\n",
              "      <td>the</td>\n",
              "      <td>0.025584</td>\n",
              "    </tr>\n",
              "    <tr>\n",
              "      <th>45</th>\n",
              "      <td>get</td>\n",
              "      <td>0.025356</td>\n",
              "    </tr>\n",
              "    <tr>\n",
              "      <th>9</th>\n",
              "      <td>and</td>\n",
              "      <td>0.019177</td>\n",
              "    </tr>\n",
              "    <tr>\n",
              "      <th>140</th>\n",
              "      <td>us</td>\n",
              "      <td>0.019168</td>\n",
              "    </tr>\n",
              "  </tbody>\n",
              "</table>\n",
              "</div>"
            ],
            "text/plain": [
              "         Features  Feature Importances\n",
              "109       reuters             0.395703\n",
              "142           via             0.106189\n",
              "112           say             0.081437\n",
              "155  subjectivity             0.053683\n",
              "69           like             0.031325\n",
              "47             go             0.026954\n",
              "126           the             0.025584\n",
              "45            get             0.025356\n",
              "9             and             0.019177\n",
              "140            us             0.019168"
            ]
          },
          "metadata": {
            "tags": []
          },
          "execution_count": 79
        }
      ]
    },
    {
      "cell_type": "code",
      "metadata": {
        "id": "XmhMRshrvkUY",
        "colab_type": "code",
        "colab": {
          "base_uri": "https://localhost:8080/",
          "height": 343
        },
        "outputId": "491e8a53-349c-4984-becb-0e78ed3ef198"
      },
      "source": [
        "df_feature_importances.sort_values(by='Feature Importances',ascending=False).tail(10)"
      ],
      "execution_count": 85,
      "outputs": [
        {
          "output_type": "execute_result",
          "data": {
            "text/html": [
              "<div>\n",
              "<style scoped>\n",
              "    .dataframe tbody tr th:only-of-type {\n",
              "        vertical-align: middle;\n",
              "    }\n",
              "\n",
              "    .dataframe tbody tr th {\n",
              "        vertical-align: top;\n",
              "    }\n",
              "\n",
              "    .dataframe thead th {\n",
              "        text-align: right;\n",
              "    }\n",
              "</style>\n",
              "<table border=\"1\" class=\"dataframe\">\n",
              "  <thead>\n",
              "    <tr style=\"text-align: right;\">\n",
              "      <th></th>\n",
              "      <th>Features</th>\n",
              "      <th>Feature Importances</th>\n",
              "    </tr>\n",
              "  </thead>\n",
              "  <tbody>\n",
              "    <tr>\n",
              "      <th>13</th>\n",
              "      <td>as</td>\n",
              "      <td>0.000180</td>\n",
              "    </tr>\n",
              "    <tr>\n",
              "      <th>20</th>\n",
              "      <td>clear</td>\n",
              "      <td>0.000177</td>\n",
              "    </tr>\n",
              "    <tr>\n",
              "      <th>119</th>\n",
              "      <td>show</td>\n",
              "      <td>0.000169</td>\n",
              "    </tr>\n",
              "    <tr>\n",
              "      <th>72</th>\n",
              "      <td>long</td>\n",
              "      <td>0.000168</td>\n",
              "    </tr>\n",
              "    <tr>\n",
              "      <th>67</th>\n",
              "      <td>least</td>\n",
              "      <td>0.000167</td>\n",
              "    </tr>\n",
              "    <tr>\n",
              "      <th>102</th>\n",
              "      <td>provide</td>\n",
              "      <td>0.000149</td>\n",
              "    </tr>\n",
              "    <tr>\n",
              "      <th>36</th>\n",
              "      <td>far</td>\n",
              "      <td>0.000139</td>\n",
              "    </tr>\n",
              "    <tr>\n",
              "      <th>61</th>\n",
              "      <td>kill</td>\n",
              "      <td>0.000139</td>\n",
              "    </tr>\n",
              "    <tr>\n",
              "      <th>98</th>\n",
              "      <td>open</td>\n",
              "      <td>0.000127</td>\n",
              "    </tr>\n",
              "    <tr>\n",
              "      <th>121</th>\n",
              "      <td>speak</td>\n",
              "      <td>0.000106</td>\n",
              "    </tr>\n",
              "  </tbody>\n",
              "</table>\n",
              "</div>"
            ],
            "text/plain": [
              "    Features  Feature Importances\n",
              "13        as             0.000180\n",
              "20     clear             0.000177\n",
              "119     show             0.000169\n",
              "72      long             0.000168\n",
              "67     least             0.000167\n",
              "102  provide             0.000149\n",
              "36       far             0.000139\n",
              "61      kill             0.000139\n",
              "98      open             0.000127\n",
              "121    speak             0.000106"
            ]
          },
          "metadata": {
            "tags": []
          },
          "execution_count": 85
        }
      ]
    },
    {
      "cell_type": "markdown",
      "metadata": {
        "id": "9X0g-U3YyjCK",
        "colab_type": "text"
      },
      "source": [
        "From the above list, the features with the highest feature importance show that informal words such as 'via', "
      ]
    },
    {
      "cell_type": "code",
      "metadata": {
        "id": "snJLzejTxMCI",
        "colab_type": "code",
        "colab": {}
      },
      "source": [
        ""
      ],
      "execution_count": null,
      "outputs": []
    }
  ]
}