{
  "nbformat": 4,
  "nbformat_minor": 0,
  "metadata": {
    "kernelspec": {
      "display_name": "Python 3",
      "language": "python",
      "name": "python3"
    },
    "language_info": {
      "codemirror_mode": {
        "name": "ipython",
        "version": 3
      },
      "file_extension": ".py",
      "mimetype": "text/x-python",
      "name": "python",
      "nbconvert_exporter": "python",
      "pygments_lexer": "ipython3",
      "version": "3.6.5"
    },
    "colab": {
      "name": "ML_methods.ipynb",
      "provenance": [],
      "collapsed_sections": [],
      "toc_visible": true,
      "include_colab_link": true
    }
  },
  "cells": [
    {
      "cell_type": "markdown",
      "metadata": {
        "id": "view-in-github",
        "colab_type": "text"
      },
      "source": [
        "<a href=\"https://colab.research.google.com/github/pooji0401/Text-Analysis/blob/master/fake_news/ML_methods.ipynb\" target=\"_parent\"><img src=\"https://colab.research.google.com/assets/colab-badge.svg\" alt=\"Open In Colab\"/></a>"
      ]
    },
    {
      "cell_type": "code",
      "metadata": {
        "id": "U4ZCYyoZUaR5",
        "colab_type": "code",
        "colab": {
          "base_uri": "https://localhost:8080/",
          "height": 70
        },
        "outputId": "fea7bbfa-2dc3-4a0b-a9e8-be0bdf227e31"
      },
      "source": [
        "import pandas as pd\n",
        "import numpy as np\n",
        "import seaborn as sns\n",
        "import matplotlib.pyplot as plt"
      ],
      "execution_count": 1,
      "outputs": [
        {
          "output_type": "stream",
          "text": [
            "/usr/local/lib/python3.6/dist-packages/statsmodels/tools/_testing.py:19: FutureWarning: pandas.util.testing is deprecated. Use the functions in the public API at pandas.testing instead.\n",
            "  import pandas.util.testing as tm\n"
          ],
          "name": "stderr"
        }
      ]
    },
    {
      "cell_type": "code",
      "metadata": {
        "id": "zo6OLn_zUd6y",
        "colab_type": "code",
        "colab": {
          "base_uri": "https://localhost:8080/",
          "height": 34
        },
        "outputId": "5ad5a551-0e26-4d1b-e206-4f4174750db4"
      },
      "source": [
        "!pwd"
      ],
      "execution_count": 2,
      "outputs": [
        {
          "output_type": "stream",
          "text": [
            "/content\n"
          ],
          "name": "stdout"
        }
      ]
    },
    {
      "cell_type": "code",
      "metadata": {
        "id": "g2oxTsrpUaSI",
        "colab_type": "code",
        "colab": {
          "base_uri": "https://localhost:8080/",
          "height": 185
        },
        "outputId": "7cf25a58-f90c-40f1-8704-69dc6511464d"
      },
      "source": [
        "##imports\n",
        "import re, string\n",
        "import nltk\n",
        "nltk.download('stopwords')\n",
        "nltk.download('wordnet')\n",
        "nltk.download('punkt')\n",
        "nltk.download('averaged_perceptron_tagger')\n",
        "from nltk.corpus import stopwords \n",
        "stop_words = set(stopwords.words('english')) \n",
        "\n",
        "from nltk.stem import PorterStemmer\n",
        "from nltk.stem import WordNetLemmatizer\n",
        "\n",
        "from textblob import TextBlob\n",
        "from textblob import Word\n",
        "\n",
        "from sklearn.feature_extraction.text import TfidfVectorizer\n",
        "\n",
        "from sklearn.metrics import accuracy_score\n",
        "from sklearn.model_selection import cross_val_score\n",
        "from sklearn.model_selection import train_test_split\n",
        "from sklearn.model_selection import GridSearchCV\n",
        "\n",
        "from sklearn.naive_bayes import BernoulliNB\n",
        "from sklearn.ensemble import RandomForestClassifier\n",
        "from sklearn.neighbors import KNeighborsClassifier\n",
        "from sklearn.ensemble import VotingClassifier"
      ],
      "execution_count": 3,
      "outputs": [
        {
          "output_type": "stream",
          "text": [
            "[nltk_data] Downloading package stopwords to /root/nltk_data...\n",
            "[nltk_data]   Package stopwords is already up-to-date!\n",
            "[nltk_data] Downloading package wordnet to /root/nltk_data...\n",
            "[nltk_data]   Package wordnet is already up-to-date!\n",
            "[nltk_data] Downloading package punkt to /root/nltk_data...\n",
            "[nltk_data]   Package punkt is already up-to-date!\n",
            "[nltk_data] Downloading package averaged_perceptron_tagger to\n",
            "[nltk_data]     /root/nltk_data...\n",
            "[nltk_data]   Package averaged_perceptron_tagger is already up-to-\n",
            "[nltk_data]       date!\n"
          ],
          "name": "stdout"
        }
      ]
    },
    {
      "cell_type": "code",
      "metadata": {
        "id": "rUIXQ1O_4qW0",
        "colab_type": "code",
        "colab": {}
      },
      "source": [
        "# https://gist.github.com/sebleier/554280\n",
        "with open('data/stop_words_file.txt','r') as f:\n",
        "  lines = f.readlines()\n",
        "lines = list(map(lambda x:x.strip(), lines))\n",
        "\n",
        "## stop_words\n",
        "stop_words = list(stop_words)+lines\n",
        "stop_words = set(stop_words)"
      ],
      "execution_count": 4,
      "outputs": []
    },
    {
      "cell_type": "code",
      "metadata": {
        "id": "EFu2yQcyUaSS",
        "colab_type": "code",
        "colab": {
          "base_uri": "https://localhost:8080/",
          "height": 195
        },
        "outputId": "a01a7707-e02d-4301-d59a-aa357b88ce36"
      },
      "source": [
        "df_fake = pd.read_csv('data/Fake.csv',engine='python',error_bad_lines=False)\n",
        "df_fake.head()"
      ],
      "execution_count": 5,
      "outputs": [
        {
          "output_type": "execute_result",
          "data": {
            "text/html": [
              "<div>\n",
              "<style scoped>\n",
              "    .dataframe tbody tr th:only-of-type {\n",
              "        vertical-align: middle;\n",
              "    }\n",
              "\n",
              "    .dataframe tbody tr th {\n",
              "        vertical-align: top;\n",
              "    }\n",
              "\n",
              "    .dataframe thead th {\n",
              "        text-align: right;\n",
              "    }\n",
              "</style>\n",
              "<table border=\"1\" class=\"dataframe\">\n",
              "  <thead>\n",
              "    <tr style=\"text-align: right;\">\n",
              "      <th></th>\n",
              "      <th>title</th>\n",
              "      <th>text</th>\n",
              "      <th>subject</th>\n",
              "      <th>date</th>\n",
              "    </tr>\n",
              "  </thead>\n",
              "  <tbody>\n",
              "    <tr>\n",
              "      <th>0</th>\n",
              "      <td>Donald Trump Sends Out Embarrassing New Year’...</td>\n",
              "      <td>Donald Trump just couldn t wish all Americans ...</td>\n",
              "      <td>News</td>\n",
              "      <td>December 31, 2017</td>\n",
              "    </tr>\n",
              "    <tr>\n",
              "      <th>1</th>\n",
              "      <td>Drunk Bragging Trump Staffer Started Russian ...</td>\n",
              "      <td>House Intelligence Committee Chairman Devin Nu...</td>\n",
              "      <td>News</td>\n",
              "      <td>December 31, 2017</td>\n",
              "    </tr>\n",
              "    <tr>\n",
              "      <th>2</th>\n",
              "      <td>Sheriff David Clarke Becomes An Internet Joke...</td>\n",
              "      <td>On Friday, it was revealed that former Milwauk...</td>\n",
              "      <td>News</td>\n",
              "      <td>December 30, 2017</td>\n",
              "    </tr>\n",
              "    <tr>\n",
              "      <th>3</th>\n",
              "      <td>Trump Is So Obsessed He Even Has Obama’s Name...</td>\n",
              "      <td>On Christmas day, Donald Trump announced that ...</td>\n",
              "      <td>News</td>\n",
              "      <td>December 29, 2017</td>\n",
              "    </tr>\n",
              "    <tr>\n",
              "      <th>4</th>\n",
              "      <td>Pope Francis Just Called Out Donald Trump Dur...</td>\n",
              "      <td>Pope Francis used his annual Christmas Day mes...</td>\n",
              "      <td>News</td>\n",
              "      <td>December 25, 2017</td>\n",
              "    </tr>\n",
              "  </tbody>\n",
              "</table>\n",
              "</div>"
            ],
            "text/plain": [
              "                                               title  ...               date\n",
              "0   Donald Trump Sends Out Embarrassing New Year’...  ...  December 31, 2017\n",
              "1   Drunk Bragging Trump Staffer Started Russian ...  ...  December 31, 2017\n",
              "2   Sheriff David Clarke Becomes An Internet Joke...  ...  December 30, 2017\n",
              "3   Trump Is So Obsessed He Even Has Obama’s Name...  ...  December 29, 2017\n",
              "4   Pope Francis Just Called Out Donald Trump Dur...  ...  December 25, 2017\n",
              "\n",
              "[5 rows x 4 columns]"
            ]
          },
          "metadata": {
            "tags": []
          },
          "execution_count": 5
        }
      ]
    },
    {
      "cell_type": "code",
      "metadata": {
        "id": "c2Kxq9gcUaSd",
        "colab_type": "code",
        "colab": {
          "base_uri": "https://localhost:8080/",
          "height": 195
        },
        "outputId": "a9eb9ac4-a9de-4696-f0f9-1e3b1bbc2b9c"
      },
      "source": [
        "df_true = pd.read_csv('data/True.csv',engine='python',error_bad_lines=False)\n",
        "df_true.head()"
      ],
      "execution_count": 6,
      "outputs": [
        {
          "output_type": "execute_result",
          "data": {
            "text/html": [
              "<div>\n",
              "<style scoped>\n",
              "    .dataframe tbody tr th:only-of-type {\n",
              "        vertical-align: middle;\n",
              "    }\n",
              "\n",
              "    .dataframe tbody tr th {\n",
              "        vertical-align: top;\n",
              "    }\n",
              "\n",
              "    .dataframe thead th {\n",
              "        text-align: right;\n",
              "    }\n",
              "</style>\n",
              "<table border=\"1\" class=\"dataframe\">\n",
              "  <thead>\n",
              "    <tr style=\"text-align: right;\">\n",
              "      <th></th>\n",
              "      <th>title</th>\n",
              "      <th>text</th>\n",
              "      <th>subject</th>\n",
              "      <th>date</th>\n",
              "    </tr>\n",
              "  </thead>\n",
              "  <tbody>\n",
              "    <tr>\n",
              "      <th>0</th>\n",
              "      <td>As U.S. budget fight looms, Republicans flip t...</td>\n",
              "      <td>WASHINGTON (Reuters) - The head of a conservat...</td>\n",
              "      <td>politicsNews</td>\n",
              "      <td>December 31, 2017</td>\n",
              "    </tr>\n",
              "    <tr>\n",
              "      <th>1</th>\n",
              "      <td>U.S. military to accept transgender recruits o...</td>\n",
              "      <td>WASHINGTON (Reuters) - Transgender people will...</td>\n",
              "      <td>politicsNews</td>\n",
              "      <td>December 29, 2017</td>\n",
              "    </tr>\n",
              "    <tr>\n",
              "      <th>2</th>\n",
              "      <td>Senior U.S. Republican senator: 'Let Mr. Muell...</td>\n",
              "      <td>WASHINGTON (Reuters) - The special counsel inv...</td>\n",
              "      <td>politicsNews</td>\n",
              "      <td>December 31, 2017</td>\n",
              "    </tr>\n",
              "    <tr>\n",
              "      <th>3</th>\n",
              "      <td>FBI Russia probe helped by Australian diplomat...</td>\n",
              "      <td>WASHINGTON (Reuters) - Trump campaign adviser ...</td>\n",
              "      <td>politicsNews</td>\n",
              "      <td>December 30, 2017</td>\n",
              "    </tr>\n",
              "    <tr>\n",
              "      <th>4</th>\n",
              "      <td>Trump wants Postal Service to charge 'much mor...</td>\n",
              "      <td>SEATTLE/WASHINGTON (Reuters) - President Donal...</td>\n",
              "      <td>politicsNews</td>\n",
              "      <td>December 29, 2017</td>\n",
              "    </tr>\n",
              "  </tbody>\n",
              "</table>\n",
              "</div>"
            ],
            "text/plain": [
              "                                               title  ...                date\n",
              "0  As U.S. budget fight looms, Republicans flip t...  ...  December 31, 2017 \n",
              "1  U.S. military to accept transgender recruits o...  ...  December 29, 2017 \n",
              "2  Senior U.S. Republican senator: 'Let Mr. Muell...  ...  December 31, 2017 \n",
              "3  FBI Russia probe helped by Australian diplomat...  ...  December 30, 2017 \n",
              "4  Trump wants Postal Service to charge 'much mor...  ...  December 29, 2017 \n",
              "\n",
              "[5 rows x 4 columns]"
            ]
          },
          "metadata": {
            "tags": []
          },
          "execution_count": 6
        }
      ]
    },
    {
      "cell_type": "markdown",
      "metadata": {
        "id": "Q2_FNTQ1XI1d",
        "colab_type": "text"
      },
      "source": [
        "## Data Preprocessing and Feature Engineering\n",
        "Generally, for any predictive modelling task, before we fit our model  we clean our data -  remove nulls check for any class imbalance in the data.  </n>\n",
        "\n",
        "For text analysis, each word (or combination of words) acts like feature, thereby resulting in <b> curse of dimensionality reduction </b>. Therefore, cleaning text is an essential step. There is no hard and fast rule about this process. It generally depends on the domain of the application. For example, in some cases, we completely convert the text to lower case where the Capitalisation doesn't play any major role. In the case of Spam words, where most of the text is captilised, Another interesting example in this scenario would be the punctuation marks. In most of the spam msgs, there are a lot of punctuation marks like '!','*',etc. Hence, there are various permutations of such techniques to clean the text. \n",
        "\n",
        "Interestingly, we can derive more features from text before preprocessing. This can include the count of specific punctuation marks, or even sentiment scores - polarity/subjectivity scores.\n",
        "\n",
        "</n>\n",
        "\n",
        "In this example, we are going to implement some basic preprocessing steps and establish a baseline for our analysis. "
      ]
    },
    {
      "cell_type": "markdown",
      "metadata": {
        "id": "ztz-_Pd0j3iP",
        "colab_type": "text"
      },
      "source": [
        "### Checking for nulls"
      ]
    },
    {
      "cell_type": "code",
      "metadata": {
        "id": "JqphuHVsUaSp",
        "colab_type": "code",
        "colab": {
          "base_uri": "https://localhost:8080/",
          "height": 101
        },
        "outputId": "29d2baeb-9ca8-4a20-f49e-44694cce9339"
      },
      "source": [
        "df_true.isna().sum()"
      ],
      "execution_count": 7,
      "outputs": [
        {
          "output_type": "execute_result",
          "data": {
            "text/plain": [
              "title      0\n",
              "text       0\n",
              "subject    0\n",
              "date       0\n",
              "dtype: int64"
            ]
          },
          "metadata": {
            "tags": []
          },
          "execution_count": 7
        }
      ]
    },
    {
      "cell_type": "code",
      "metadata": {
        "id": "wUmzAJECUaSy",
        "colab_type": "code",
        "colab": {
          "base_uri": "https://localhost:8080/",
          "height": 101
        },
        "outputId": "61260ab9-5746-4298-d427-4624b72b5607"
      },
      "source": [
        "df_fake.isna().sum()"
      ],
      "execution_count": 8,
      "outputs": [
        {
          "output_type": "execute_result",
          "data": {
            "text/plain": [
              "title      0\n",
              "text       0\n",
              "subject    0\n",
              "date       0\n",
              "dtype: int64"
            ]
          },
          "metadata": {
            "tags": []
          },
          "execution_count": 8
        }
      ]
    },
    {
      "cell_type": "markdown",
      "metadata": {
        "id": "VN1wCFbrYf2u",
        "colab_type": "text"
      },
      "source": [
        "Since every peice of text in the True news contains the source (Reuters), it is essential to remove this from the text in order to remove the bias from the text."
      ]
    },
    {
      "cell_type": "code",
      "metadata": {
        "id": "WZGODpkNlvvi",
        "colab_type": "code",
        "colab": {}
      },
      "source": [
        "# s = 0\n",
        "# for i in range(len(df_true)):\n",
        "#   if ') -' not in df_true['text'].iloc[i]:\n",
        "#     print(i)\n",
        "#     s+=1\n",
        "# print(s)"
      ],
      "execution_count": 9,
      "outputs": []
    },
    {
      "cell_type": "code",
      "metadata": {
        "id": "M-J5-9XZm2cw",
        "colab_type": "code",
        "colab": {
          "base_uri": "https://localhost:8080/",
          "height": 137
        },
        "outputId": "6437ac02-ade7-4b49-c2e8-81ea82f26faf"
      },
      "source": [
        "df_true['text'].iloc[17871]"
      ],
      "execution_count": 10,
      "outputs": [
        {
          "output_type": "execute_result",
          "data": {
            "application/vnd.google.colaboratory.intrinsic": {
              "type": "string"
            },
            "text/plain": [
              "'MADRID - Catalan regional leader Carles Puigdemont planned on Tuesday to address a session of the regional parliament that might adopt a unilateral declaration of independence from Spain.  Below are the main points of the Catalan legal framework that permitted the Oct. 1 referendum on independence and would underpin a new state before a constitution is established. Spain s Constitutional Court has suspended the new laws. WHAT DOES LEGISLATION SAY ABOUT DECLARATION OF INDEPENDENCE? Legislation passed in the Catalan parliament on Sept. 6 states that the outcome of the referendum is binding, and if it produces more affirmative than negative votes, this implies the independence of Catalonia.  Within two days of the official announcement of the result of the referendum, the Catalan parliament will formally declare independence, explain the effects of the decision and start the process of founding a republic.                  The legislation describes Catalonia as  a social and democratic republic of law , in which the people of the region are sovereign. It says European Union and international law continue to apply, and defines the sovereign territory of Catalonia.  The law says EU rules in force in Catalonia when independence is declared, whether enforced by national or regional institutions, will continue to apply under the same conditions established by the law of the bloc. It also says EU laws passed after an independent state is declared will be automatically integrated into Catalan law. Not clear. A break from Spain would leave Catalonia outside the EU, but it could aim to continue using the euro, as non-EU members Kosovo and Montenegro do. Exit from the bloc would mean Catalan lenders cease to be supervised by the European Central Bank, whose deposit insurance scheme protects bank customers.   HOW WOULD CATALONIA MANAGE TRADE RELATIONS AND IMMIGRATION?  The exact terms of future trade relationships have not been set out, but the legislation says the Catalan government acts in accordance with the customs and excise regime set out in EU law.   International treaties signed by Spain are incorporated into Catalan law provided that they are considered compatible with application there. The Catalan government will decide within one year which treaties to authorize. Foreigners have the same rights and obligations as Catalan citizens, but citizenship is required for those holding positions of public power. Anyone born in Catalonia who does not have any other legal citizenship is considered Catalan.    The current Supreme Court of Justice of Catalonia becomes the new Supreme Court of Catalonia. The current civil and criminal court is divided into separate civil and criminal chambers.  A Superior Court of Guarantees is created to handle any appeals and conflicts of jurisdiction. This consists of the chairman of the Supreme Court, the chairmen of the other four chambers and two judges appointed by parliament. Spanish citizens resident in Catalonia since before Dec. 31 2016 are deemed citizens, while those who took up residency after Dec. 31, 2016 but before the self-determination law takes hold can apply for citizenship after two years.  Those who were born in Catalonia, have Catalan parents or have lived in the region for at least five years in the past, but are not resident there, can also apply for citizenship. Babies born to or adopted by Catalan parents after independence is declared are considered citizens. Catalan citizenship can be acquired by legal and continuous residence in Catalonia for a period of five years immediately prior to the request. For foreigners, the legal residence time includes that which has elapsed before the law comes into force. An applicant to be a Catalan citizen does not have to give up their citizenship of Spain or any other country.  '"
            ]
          },
          "metadata": {
            "tags": []
          },
          "execution_count": 10
        }
      ]
    },
    {
      "cell_type": "code",
      "metadata": {
        "id": "ErKJCuODYPF2",
        "colab_type": "code",
        "colab": {
          "base_uri": "https://localhost:8080/",
          "height": 195
        },
        "outputId": "7ef0be7a-e9d4-4be5-e35a-5092fd53541e"
      },
      "source": [
        "def remove_source(x):\n",
        "  if ') -' in x:\n",
        "    return x.split(') -')[1].strip()\n",
        "  else:\n",
        "    return x\n",
        "\n",
        "df_true['text'] = df_true['text'].apply(lambda x:remove_source(x))\n",
        "df_true.head()"
      ],
      "execution_count": 11,
      "outputs": [
        {
          "output_type": "execute_result",
          "data": {
            "text/html": [
              "<div>\n",
              "<style scoped>\n",
              "    .dataframe tbody tr th:only-of-type {\n",
              "        vertical-align: middle;\n",
              "    }\n",
              "\n",
              "    .dataframe tbody tr th {\n",
              "        vertical-align: top;\n",
              "    }\n",
              "\n",
              "    .dataframe thead th {\n",
              "        text-align: right;\n",
              "    }\n",
              "</style>\n",
              "<table border=\"1\" class=\"dataframe\">\n",
              "  <thead>\n",
              "    <tr style=\"text-align: right;\">\n",
              "      <th></th>\n",
              "      <th>title</th>\n",
              "      <th>text</th>\n",
              "      <th>subject</th>\n",
              "      <th>date</th>\n",
              "    </tr>\n",
              "  </thead>\n",
              "  <tbody>\n",
              "    <tr>\n",
              "      <th>0</th>\n",
              "      <td>As U.S. budget fight looms, Republicans flip t...</td>\n",
              "      <td>The head of a conservative Republican faction ...</td>\n",
              "      <td>politicsNews</td>\n",
              "      <td>December 31, 2017</td>\n",
              "    </tr>\n",
              "    <tr>\n",
              "      <th>1</th>\n",
              "      <td>U.S. military to accept transgender recruits o...</td>\n",
              "      <td>Transgender people will be allowed for the fir...</td>\n",
              "      <td>politicsNews</td>\n",
              "      <td>December 29, 2017</td>\n",
              "    </tr>\n",
              "    <tr>\n",
              "      <th>2</th>\n",
              "      <td>Senior U.S. Republican senator: 'Let Mr. Muell...</td>\n",
              "      <td>The special counsel investigation of links bet...</td>\n",
              "      <td>politicsNews</td>\n",
              "      <td>December 31, 2017</td>\n",
              "    </tr>\n",
              "    <tr>\n",
              "      <th>3</th>\n",
              "      <td>FBI Russia probe helped by Australian diplomat...</td>\n",
              "      <td>Trump campaign adviser George Papadopoulos tol...</td>\n",
              "      <td>politicsNews</td>\n",
              "      <td>December 30, 2017</td>\n",
              "    </tr>\n",
              "    <tr>\n",
              "      <th>4</th>\n",
              "      <td>Trump wants Postal Service to charge 'much mor...</td>\n",
              "      <td>President Donald Trump called on the U.S. Post...</td>\n",
              "      <td>politicsNews</td>\n",
              "      <td>December 29, 2017</td>\n",
              "    </tr>\n",
              "  </tbody>\n",
              "</table>\n",
              "</div>"
            ],
            "text/plain": [
              "                                               title  ...                date\n",
              "0  As U.S. budget fight looms, Republicans flip t...  ...  December 31, 2017 \n",
              "1  U.S. military to accept transgender recruits o...  ...  December 29, 2017 \n",
              "2  Senior U.S. Republican senator: 'Let Mr. Muell...  ...  December 31, 2017 \n",
              "3  FBI Russia probe helped by Australian diplomat...  ...  December 30, 2017 \n",
              "4  Trump wants Postal Service to charge 'much mor...  ...  December 29, 2017 \n",
              "\n",
              "[5 rows x 4 columns]"
            ]
          },
          "metadata": {
            "tags": []
          },
          "execution_count": 11
        }
      ]
    },
    {
      "cell_type": "code",
      "metadata": {
        "id": "IvrVFn1oUaS7",
        "colab_type": "code",
        "colab": {}
      },
      "source": [
        "df_fake['label'] = [1]*len(df_fake)\n",
        "df_true['label'] = [0]*len(df_true)\n",
        "df_fake['num_words'] = df_fake['text'].apply(lambda x: len(x.split()))\n",
        "df_true['num_words'] = df_true['text'].apply(lambda x: len(x.split()))"
      ],
      "execution_count": 12,
      "outputs": []
    },
    {
      "cell_type": "markdown",
      "metadata": {
        "id": "cEgZyHJXj8_z",
        "colab_type": "text"
      },
      "source": [
        "### Checking for class imbalance and length imbalance\n",
        "\n",
        "Length imbalance in this case refers to the significant difference in the length of means of both classes of examples. We want the model to work equally good with lengthy sentences for both classes. \n",
        "\n",
        "In order to balance out the lengths, we remove the extremes in both classes - above 75th percentile (too long sentences) and below 25th percentile(too short sentences).  "
      ]
    },
    {
      "cell_type": "code",
      "metadata": {
        "id": "1itw-LkpUaTC",
        "colab_type": "code",
        "colab": {
          "base_uri": "https://localhost:8080/",
          "height": 284
        },
        "outputId": "667ed2c1-573d-4fd5-9781-df0ae71e772b"
      },
      "source": [
        "df_explore_words = pd.DataFrame(df_fake['num_words'].describe()).rename({'num_words':'fake_words'},axis=1)\n",
        "df_explore_words['True_words'] = df_true['num_words'].describe()\n",
        "df_explore_words"
      ],
      "execution_count": 13,
      "outputs": [
        {
          "output_type": "execute_result",
          "data": {
            "text/html": [
              "<div>\n",
              "<style scoped>\n",
              "    .dataframe tbody tr th:only-of-type {\n",
              "        vertical-align: middle;\n",
              "    }\n",
              "\n",
              "    .dataframe tbody tr th {\n",
              "        vertical-align: top;\n",
              "    }\n",
              "\n",
              "    .dataframe thead th {\n",
              "        text-align: right;\n",
              "    }\n",
              "</style>\n",
              "<table border=\"1\" class=\"dataframe\">\n",
              "  <thead>\n",
              "    <tr style=\"text-align: right;\">\n",
              "      <th></th>\n",
              "      <th>fake_words</th>\n",
              "      <th>True_words</th>\n",
              "    </tr>\n",
              "  </thead>\n",
              "  <tbody>\n",
              "    <tr>\n",
              "      <th>count</th>\n",
              "      <td>23481.000000</td>\n",
              "      <td>21417.000000</td>\n",
              "    </tr>\n",
              "    <tr>\n",
              "      <th>mean</th>\n",
              "      <td>423.197905</td>\n",
              "      <td>381.224821</td>\n",
              "    </tr>\n",
              "    <tr>\n",
              "      <th>std</th>\n",
              "      <td>408.388890</td>\n",
              "      <td>273.629815</td>\n",
              "    </tr>\n",
              "    <tr>\n",
              "      <th>min</th>\n",
              "      <td>0.000000</td>\n",
              "      <td>0.000000</td>\n",
              "    </tr>\n",
              "    <tr>\n",
              "      <th>25%</th>\n",
              "      <td>240.000000</td>\n",
              "      <td>143.000000</td>\n",
              "    </tr>\n",
              "    <tr>\n",
              "      <th>50%</th>\n",
              "      <td>363.000000</td>\n",
              "      <td>355.000000</td>\n",
              "    </tr>\n",
              "    <tr>\n",
              "      <th>75%</th>\n",
              "      <td>506.000000</td>\n",
              "      <td>519.000000</td>\n",
              "    </tr>\n",
              "    <tr>\n",
              "      <th>max</th>\n",
              "      <td>8135.000000</td>\n",
              "      <td>5170.000000</td>\n",
              "    </tr>\n",
              "  </tbody>\n",
              "</table>\n",
              "</div>"
            ],
            "text/plain": [
              "         fake_words    True_words\n",
              "count  23481.000000  21417.000000\n",
              "mean     423.197905    381.224821\n",
              "std      408.388890    273.629815\n",
              "min        0.000000      0.000000\n",
              "25%      240.000000    143.000000\n",
              "50%      363.000000    355.000000\n",
              "75%      506.000000    519.000000\n",
              "max     8135.000000   5170.000000"
            ]
          },
          "metadata": {
            "tags": []
          },
          "execution_count": 13
        }
      ]
    },
    {
      "cell_type": "code",
      "metadata": {
        "id": "uQvFNOOIUaTI",
        "colab_type": "code",
        "colab": {
          "base_uri": "https://localhost:8080/",
          "height": 34
        },
        "outputId": "240a0d34-95fb-43ba-9c94-f92044db52e4"
      },
      "source": [
        "df_fake = df_fake[(df_fake['num_words']>=240)&(df_fake['num_words']<=506)]\n",
        "df_true = df_true[(df_true['num_words']>=143)&(df_true['num_words']<=519)]\n",
        "len(df_fake),len(df_true)"
      ],
      "execution_count": 14,
      "outputs": [
        {
          "output_type": "execute_result",
          "data": {
            "text/plain": [
              "(11772, 10734)"
            ]
          },
          "metadata": {
            "tags": []
          },
          "execution_count": 14
        }
      ]
    },
    {
      "cell_type": "code",
      "metadata": {
        "id": "m6ovehMdUaTO",
        "colab_type": "code",
        "colab": {
          "base_uri": "https://localhost:8080/",
          "height": 195
        },
        "outputId": "b6a5e6c3-5d92-42af-a611-fc86dea6058d"
      },
      "source": [
        "df_total = pd.concat([df_fake,df_true],axis=0)\n",
        "df_total.head()"
      ],
      "execution_count": 15,
      "outputs": [
        {
          "output_type": "execute_result",
          "data": {
            "text/html": [
              "<div>\n",
              "<style scoped>\n",
              "    .dataframe tbody tr th:only-of-type {\n",
              "        vertical-align: middle;\n",
              "    }\n",
              "\n",
              "    .dataframe tbody tr th {\n",
              "        vertical-align: top;\n",
              "    }\n",
              "\n",
              "    .dataframe thead th {\n",
              "        text-align: right;\n",
              "    }\n",
              "</style>\n",
              "<table border=\"1\" class=\"dataframe\">\n",
              "  <thead>\n",
              "    <tr style=\"text-align: right;\">\n",
              "      <th></th>\n",
              "      <th>title</th>\n",
              "      <th>text</th>\n",
              "      <th>subject</th>\n",
              "      <th>date</th>\n",
              "      <th>label</th>\n",
              "      <th>num_words</th>\n",
              "    </tr>\n",
              "  </thead>\n",
              "  <tbody>\n",
              "    <tr>\n",
              "      <th>0</th>\n",
              "      <td>Donald Trump Sends Out Embarrassing New Year’...</td>\n",
              "      <td>Donald Trump just couldn t wish all Americans ...</td>\n",
              "      <td>News</td>\n",
              "      <td>December 31, 2017</td>\n",
              "      <td>1</td>\n",
              "      <td>495</td>\n",
              "    </tr>\n",
              "    <tr>\n",
              "      <th>1</th>\n",
              "      <td>Drunk Bragging Trump Staffer Started Russian ...</td>\n",
              "      <td>House Intelligence Committee Chairman Devin Nu...</td>\n",
              "      <td>News</td>\n",
              "      <td>December 31, 2017</td>\n",
              "      <td>1</td>\n",
              "      <td>305</td>\n",
              "    </tr>\n",
              "    <tr>\n",
              "      <th>3</th>\n",
              "      <td>Trump Is So Obsessed He Even Has Obama’s Name...</td>\n",
              "      <td>On Christmas day, Donald Trump announced that ...</td>\n",
              "      <td>News</td>\n",
              "      <td>December 29, 2017</td>\n",
              "      <td>1</td>\n",
              "      <td>444</td>\n",
              "    </tr>\n",
              "    <tr>\n",
              "      <th>4</th>\n",
              "      <td>Pope Francis Just Called Out Donald Trump Dur...</td>\n",
              "      <td>Pope Francis used his annual Christmas Day mes...</td>\n",
              "      <td>News</td>\n",
              "      <td>December 25, 2017</td>\n",
              "      <td>1</td>\n",
              "      <td>420</td>\n",
              "    </tr>\n",
              "    <tr>\n",
              "      <th>5</th>\n",
              "      <td>Racist Alabama Cops Brutalize Black Boy While...</td>\n",
              "      <td>The number of cases of cops brutalizing and ki...</td>\n",
              "      <td>News</td>\n",
              "      <td>December 25, 2017</td>\n",
              "      <td>1</td>\n",
              "      <td>312</td>\n",
              "    </tr>\n",
              "  </tbody>\n",
              "</table>\n",
              "</div>"
            ],
            "text/plain": [
              "                                               title  ... num_words\n",
              "0   Donald Trump Sends Out Embarrassing New Year’...  ...       495\n",
              "1   Drunk Bragging Trump Staffer Started Russian ...  ...       305\n",
              "3   Trump Is So Obsessed He Even Has Obama’s Name...  ...       444\n",
              "4   Pope Francis Just Called Out Donald Trump Dur...  ...       420\n",
              "5   Racist Alabama Cops Brutalize Black Boy While...  ...       312\n",
              "\n",
              "[5 rows x 6 columns]"
            ]
          },
          "metadata": {
            "tags": []
          },
          "execution_count": 15
        }
      ]
    },
    {
      "cell_type": "code",
      "metadata": {
        "id": "ZV2VZLMtUaTT",
        "colab_type": "code",
        "colab": {
          "base_uri": "https://localhost:8080/",
          "height": 515
        },
        "outputId": "917d60c9-7e97-4a1a-838c-6921469965b5"
      },
      "source": [
        "fig, ax = plt.subplots(figsize=(12,8))\n",
        "# plt.figure()\n",
        "sns.distplot(df_total[df_total['label']==1]['num_words'],color='red')\n",
        "sns.distplot(df_total[df_total['label']==0]['num_words'],color='blue')\n",
        "ax.vlines(250,*ax.get_ylim())\n",
        "ax.vlines(505,*ax.get_ylim())"
      ],
      "execution_count": 16,
      "outputs": [
        {
          "output_type": "execute_result",
          "data": {
            "text/plain": [
              "<matplotlib.collections.LineCollection at 0x7fac00ca4550>"
            ]
          },
          "metadata": {
            "tags": []
          },
          "execution_count": 16
        },
        {
          "output_type": "display_data",
          "data": {
            "image/png": "[encoded data removed]",
            "text/plain": [
              "<Figure size 864x576 with 1 Axes>"
            ]
          },
          "metadata": {
            "tags": [],
            "needs_background": "light"
          }
        }
      ]
    },
    {
      "cell_type": "markdown",
      "metadata": {
        "id": "EHJhDzsOk_85",
        "colab_type": "text"
      },
      "source": [
        "We want to take the sequences with nearly same number of words in both the cases. As you can see, the common set of sentences have a range of 250 - 500 words."
      ]
    },
    {
      "cell_type": "code",
      "metadata": {
        "id": "w1EvXXrkUaTY",
        "colab_type": "code",
        "colab": {}
      },
      "source": [
        "df_total = df_total[(df_total['num_words']>=250)&(df_total['num_words']<=505)]"
      ],
      "execution_count": 17,
      "outputs": []
    },
    {
      "cell_type": "markdown",
      "metadata": {
        "id": "ljlimTE1lcIg",
        "colab_type": "text"
      },
      "source": [
        "Finally, we rebalance the number of records across both the classes."
      ]
    },
    {
      "cell_type": "code",
      "metadata": {
        "id": "9B45JeKCT_QD",
        "colab_type": "code",
        "colab": {}
      },
      "source": [
        "def rebalance_data(df):\n",
        "    label_0_len = len(df[df['label']==0])\n",
        "    label_1_len = len(df[df['label']==1])\n",
        "    min_len = min(label_0_len,label_1_len)\n",
        "\n",
        "    df_new_lab1 = df[df['label']==1].sample(min_len)\n",
        "    df_new_lab0 = df[df['label']==0].sample(min_len)\n",
        "\n",
        "    df=pd.concat([df_new_lab0,df_new_lab1])\n",
        "    df.reset_index(inplace=True,drop=True)\n",
        "    print('Total num of records after balancing ',len(df))\n",
        "    return df"
      ],
      "execution_count": 18,
      "outputs": []
    },
    {
      "cell_type": "code",
      "metadata": {
        "id": "Y2fN8EWaVT26",
        "colab_type": "code",
        "colab": {
          "base_uri": "https://localhost:8080/",
          "height": 34
        },
        "outputId": "1a391697-9bee-4072-d179-35b2d96a3014"
      },
      "source": [
        "df_total = rebalance_data(df_total)"
      ],
      "execution_count": 19,
      "outputs": [
        {
          "output_type": "stream",
          "text": [
            "Total num of records after balancing  16408\n"
          ],
          "name": "stdout"
        }
      ]
    },
    {
      "cell_type": "code",
      "metadata": {
        "id": "X0-ZFJPaVdPp",
        "colab_type": "code",
        "colab": {
          "base_uri": "https://localhost:8080/",
          "height": 67
        },
        "outputId": "d1f2a29c-10f6-43d2-ce74-6028a02ac0f1"
      },
      "source": [
        "df_total.label.value_counts()"
      ],
      "execution_count": 20,
      "outputs": [
        {
          "output_type": "execute_result",
          "data": {
            "text/plain": [
              "1    8204\n",
              "0    8204\n",
              "Name: label, dtype: int64"
            ]
          },
          "metadata": {
            "tags": []
          },
          "execution_count": 20
        }
      ]
    },
    {
      "cell_type": "code",
      "metadata": {
        "id": "jnQCDWF8UaTd",
        "colab_type": "code",
        "colab": {
          "base_uri": "https://localhost:8080/",
          "height": 195
        },
        "outputId": "b74f705e-a41c-4a80-b46a-45a6b3a922a8"
      },
      "source": [
        "df_total.head()"
      ],
      "execution_count": 21,
      "outputs": [
        {
          "output_type": "execute_result",
          "data": {
            "text/html": [
              "<div>\n",
              "<style scoped>\n",
              "    .dataframe tbody tr th:only-of-type {\n",
              "        vertical-align: middle;\n",
              "    }\n",
              "\n",
              "    .dataframe tbody tr th {\n",
              "        vertical-align: top;\n",
              "    }\n",
              "\n",
              "    .dataframe thead th {\n",
              "        text-align: right;\n",
              "    }\n",
              "</style>\n",
              "<table border=\"1\" class=\"dataframe\">\n",
              "  <thead>\n",
              "    <tr style=\"text-align: right;\">\n",
              "      <th></th>\n",
              "      <th>title</th>\n",
              "      <th>text</th>\n",
              "      <th>subject</th>\n",
              "      <th>date</th>\n",
              "      <th>label</th>\n",
              "      <th>num_words</th>\n",
              "    </tr>\n",
              "  </thead>\n",
              "  <tbody>\n",
              "    <tr>\n",
              "      <th>0</th>\n",
              "      <td>Australia police arrest man accused of plottin...</td>\n",
              "      <td>Police have arrested a 20-year-old man suspect...</td>\n",
              "      <td>worldnews</td>\n",
              "      <td>November 27, 2017</td>\n",
              "      <td>0</td>\n",
              "      <td>326</td>\n",
              "    </tr>\n",
              "    <tr>\n",
              "      <th>1</th>\n",
              "      <td>U.S. House committee votes to smooth e-cigaret...</td>\n",
              "      <td>A U.S. House of Representatives committee on T...</td>\n",
              "      <td>politicsNews</td>\n",
              "      <td>April 19, 2016</td>\n",
              "      <td>0</td>\n",
              "      <td>478</td>\n",
              "    </tr>\n",
              "    <tr>\n",
              "      <th>2</th>\n",
              "      <td>Trump creates business advisory council stacke...</td>\n",
              "      <td>President-elect Donald Trump announced the for...</td>\n",
              "      <td>politicsNews</td>\n",
              "      <td>December 2, 2016</td>\n",
              "      <td>0</td>\n",
              "      <td>384</td>\n",
              "    </tr>\n",
              "    <tr>\n",
              "      <th>3</th>\n",
              "      <td>Thai monks receive alms to mark a year since d...</td>\n",
              "      <td>Thailand on Friday held a nationwide Buddhist ...</td>\n",
              "      <td>worldnews</td>\n",
              "      <td>October 13, 2017</td>\n",
              "      <td>0</td>\n",
              "      <td>333</td>\n",
              "    </tr>\n",
              "    <tr>\n",
              "      <th>4</th>\n",
              "      <td>Senate sets votes on competing Zika funding plans</td>\n",
              "      <td>Three competing plans for battling a potential...</td>\n",
              "      <td>politicsNews</td>\n",
              "      <td>May 12, 2016</td>\n",
              "      <td>0</td>\n",
              "      <td>457</td>\n",
              "    </tr>\n",
              "  </tbody>\n",
              "</table>\n",
              "</div>"
            ],
            "text/plain": [
              "                                               title  ... num_words\n",
              "0  Australia police arrest man accused of plottin...  ...       326\n",
              "1  U.S. House committee votes to smooth e-cigaret...  ...       478\n",
              "2  Trump creates business advisory council stacke...  ...       384\n",
              "3  Thai monks receive alms to mark a year since d...  ...       333\n",
              "4  Senate sets votes on competing Zika funding plans  ...       457\n",
              "\n",
              "[5 rows x 6 columns]"
            ]
          },
          "metadata": {
            "tags": []
          },
          "execution_count": 21
        }
      ]
    },
    {
      "cell_type": "code",
      "metadata": {
        "id": "pO-RdcE1UaTj",
        "colab_type": "code",
        "colab": {
          "base_uri": "https://localhost:8080/",
          "height": 195
        },
        "outputId": "030565a5-108f-4bb9-c481-d9b1b983896c"
      },
      "source": [
        "df_final = df_total[['text','label']]\n",
        "df_final.reset_index(drop=True,inplace=True)\n",
        "df_final.head()"
      ],
      "execution_count": 22,
      "outputs": [
        {
          "output_type": "execute_result",
          "data": {
            "text/html": [
              "<div>\n",
              "<style scoped>\n",
              "    .dataframe tbody tr th:only-of-type {\n",
              "        vertical-align: middle;\n",
              "    }\n",
              "\n",
              "    .dataframe tbody tr th {\n",
              "        vertical-align: top;\n",
              "    }\n",
              "\n",
              "    .dataframe thead th {\n",
              "        text-align: right;\n",
              "    }\n",
              "</style>\n",
              "<table border=\"1\" class=\"dataframe\">\n",
              "  <thead>\n",
              "    <tr style=\"text-align: right;\">\n",
              "      <th></th>\n",
              "      <th>text</th>\n",
              "      <th>label</th>\n",
              "    </tr>\n",
              "  </thead>\n",
              "  <tbody>\n",
              "    <tr>\n",
              "      <th>0</th>\n",
              "      <td>Police have arrested a 20-year-old man suspect...</td>\n",
              "      <td>0</td>\n",
              "    </tr>\n",
              "    <tr>\n",
              "      <th>1</th>\n",
              "      <td>A U.S. House of Representatives committee on T...</td>\n",
              "      <td>0</td>\n",
              "    </tr>\n",
              "    <tr>\n",
              "      <th>2</th>\n",
              "      <td>President-elect Donald Trump announced the for...</td>\n",
              "      <td>0</td>\n",
              "    </tr>\n",
              "    <tr>\n",
              "      <th>3</th>\n",
              "      <td>Thailand on Friday held a nationwide Buddhist ...</td>\n",
              "      <td>0</td>\n",
              "    </tr>\n",
              "    <tr>\n",
              "      <th>4</th>\n",
              "      <td>Three competing plans for battling a potential...</td>\n",
              "      <td>0</td>\n",
              "    </tr>\n",
              "  </tbody>\n",
              "</table>\n",
              "</div>"
            ],
            "text/plain": [
              "                                                text  label\n",
              "0  Police have arrested a 20-year-old man suspect...      0\n",
              "1  A U.S. House of Representatives committee on T...      0\n",
              "2  President-elect Donald Trump announced the for...      0\n",
              "3  Thailand on Friday held a nationwide Buddhist ...      0\n",
              "4  Three competing plans for battling a potential...      0"
            ]
          },
          "metadata": {
            "tags": []
          },
          "execution_count": 22
        }
      ]
    },
    {
      "cell_type": "markdown",
      "metadata": {
        "id": "LINRynzAlnYa",
        "colab_type": "text"
      },
      "source": [
        "### Text Cleaning \n",
        "The steps followed for this step are as follows - \n",
        "1. Removing trailing white spaces\n",
        "2. Removing punctuations\n",
        "3. Removing stop words\n",
        "4. Lemmatize the word to the verb level \n",
        "5. Removing all the proper nouns in the sentence using POS tagger\n",
        "6. Converting the final filtered sentence to lower case\n",
        "\n",
        "Note that, For step 5 (filtering nouns) Casing is very important in order to identify the nouns and any other tags. Therefore, it is the last step in our cleaning pipeline. Therefore, the order of these steps is also very important and specific to out application"
      ]
    },
    {
      "cell_type": "code",
      "metadata": {
        "id": "MKrsP-ixUaTo",
        "colab_type": "code",
        "colab": {}
      },
      "source": [
        "def clean_lemma_text_blob(x):\n",
        "    regex = re.compile('[%s]' % re.escape(string.punctuation))\n",
        "    ## Removing Stop Words, Lemmatizing using Text Blob\n",
        "    #     x = x.lower() ## Lower Case Conversion\n",
        "    x = x.strip()\n",
        "    x = regex.sub('', x) ## Removing Punctuations\n",
        "    word_tokens = x.split()\n",
        "    filtered_sentence = [Word(i.lower()).lemmatize(\"v\") for i in word_tokens if not i in stop_words] \n",
        "    filtered_sentence = ' '.join(filtered_sentence)\n",
        "    if(len(filtered_sentence.split())>0):\n",
        "        p_blob = TextBlob(filtered_sentence)\n",
        "        m = np.array(p_blob.tags)\n",
        "#         m = m[(m[:,1]=='NN') | (m[:,1] =='JJ') | (m[:,1] =='VBP') | (m[:,1] =='VB') ]\n",
        "        m = m[~(m[:,1]=='NN')]\n",
        "        filtered_sentence = ' '.join(m[:,0])\n",
        "        filtered_sentence = filtered_sentence.lower()\n",
        "        return filtered_sentence\n",
        "    else:\n",
        "        return ''\n",
        "    "
      ],
      "execution_count": 23,
      "outputs": []
    },
    {
      "cell_type": "code",
      "metadata": {
        "id": "9qv2EYN3UaTt",
        "colab_type": "code",
        "colab": {}
      },
      "source": [
        "def clean_text_df(df):\n",
        "    df['text_noun_cleaned']=df['text'].apply(lambda x: clean_lemma_text_blob(x))\n",
        "    return df"
      ],
      "execution_count": 24,
      "outputs": []
    },
    {
      "cell_type": "markdown",
      "metadata": {
        "id": "rAQwBEMKnAAC",
        "colab_type": "text"
      },
      "source": [
        "### Feature Engineering \n",
        "\n",
        "In this case, we are adding sentiment features - polarity and subjectivity scores using Text Blob package. \n",
        "\n",
        "<b>Polarity</b> indicates the tone of the sentence - postive, neutral and negative. The scores are in the range of [-1,+1]. <b>Subjectivity</b> indicates how the subject is addressed in the sentence. The scores are in the range [0,1]\n",
        "\n",
        "Finally, we use the <b>Term-Frequency-Inverse-Document-Frequency TFIDF </b> to get the vectorised word features. Vectorization is the  process of turning a collection of text documents into numerical feature vectors. This specific strategy (tokenization, counting and normalization) is called the Bag of Words or <b>“Bag of n-grams”</b>representation. This method also helps us in eliminating most frequent words and rarely occuring words from the corpus. \n",
        "\n",
        "\n",
        "Therefore, the document is defined by the occurences and co-occurences of words , thereby completely ignoring the order of their appearance or any meaning associated with the position of the word. \n",
        "\n",
        "For example, consider the following statement \" Although he looks happy, he is actually not very happy about the performance of the model.\" A regular BOW model for sentiment classification would classify this statement to be positive because of the word \"HAPPY\" occuring twice in the statement. In reality, we know that this is not the case. \n",
        "\n",
        "However, it is a good approach to establish a baseline.\n",
        "\n",
        "\n"
      ]
    },
    {
      "cell_type": "code",
      "metadata": {
        "id": "IMCjjMvYUaTy",
        "colab_type": "code",
        "colab": {}
      },
      "source": [
        "def get_sentiment_features(df):\n",
        "    df['polarity']=df['text'].apply(lambda x:TextBlob(x).sentiment.polarity)\n",
        "    df['subjectivity']=df['text'].apply(lambda x:TextBlob(x).sentiment.subjectivity)\n",
        "    return df"
      ],
      "execution_count": 25,
      "outputs": []
    },
    {
      "cell_type": "markdown",
      "metadata": {
        "id": "1-bUnqfYsPI8",
        "colab_type": "text"
      },
      "source": [
        "Combining the vectorised features with the sentiment features in a dataframe"
      ]
    },
    {
      "cell_type": "code",
      "metadata": {
        "id": "DUUtEs7aUaT3",
        "colab_type": "code",
        "colab": {}
      },
      "source": [
        "## Retaining words (or combination of words) that occur in atleast 10% of documents or atmost 90% of documents\n",
        "def data_transformation(df,tfidf_params = [0.1,0.9]):\n",
        "    ## Tweaking parameters\n",
        "    vectorizer = TfidfVectorizer(min_df=tfidf_params[0],max_df=tfidf_params[1],ngram_range=(1,2),stop_words={'english'})\n",
        "    X = vectorizer.fit_transform(df['text_noun_cleaned'])\n",
        "    df_input = pd.DataFrame(X.toarray())\n",
        "    df_input.columns = vectorizer.get_feature_names()\n",
        "    if 'label' in df.columns:\n",
        "        df_input['label'] = df['label']\n",
        "    df_input['polarity'] = df['polarity']\n",
        "    df_input['subjectivity'] = df['subjectivity']\n",
        "    return df_input, vectorizer"
      ],
      "execution_count": 26,
      "outputs": []
    },
    {
      "cell_type": "markdown",
      "metadata": {
        "id": "vzH2EKN2tOXt",
        "colab_type": "text"
      },
      "source": [
        "## Model Selection and Model Evaluation\n",
        "In the following method, we try to fit multiple models - Bernoulli Naive Bayes, Random Forest Classifier, K-Nearest Neighbours and finally a Hard Voting Classifier using all the other mentioned classifiers.\n",
        "\n",
        "We use accuracy to tune these models independently and search for the best Hyperparameters using Grid Search Cross Validation technique. "
      ]
    },
    {
      "cell_type": "code",
      "metadata": {
        "id": "xTF7iYmZUaT-",
        "colab_type": "code",
        "colab": {}
      },
      "source": [
        "def model_selection(df_input):\n",
        "    results = {}\n",
        "    l = list(df_input.columns)\n",
        "    l.remove('label')\n",
        "    X_train, X_test, y_train, y_test = train_test_split(df_input[l], df_input['label'],\n",
        "                                                    test_size=0.33, random_state=42)\n",
        "    \n",
        "    ## BNB\n",
        "    clf_bnb = BernoulliNB().fit(X_train, y_train)\n",
        "    ypred=clf_bnb.predict(X_test)\n",
        "    acc_BNB = accuracy_score(y_test,ypred)\n",
        "    print(\"Accuracy for BNB model without any tuning: \", acc_BNB)\n",
        "    results[clf_bnb] = acc_BNB\n",
        "    \n",
        "    ## Random Forest\n",
        "    clf_rf = RandomForestClassifier(random_state=42)\n",
        "    param_grid = [{ \n",
        "        'n_estimators': np.arange(10,110,10),\n",
        "        'max_depth' : [4,5,6,7,8]\n",
        "    }]\n",
        "    CV_rf = GridSearchCV(estimator=clf_rf, param_grid=param_grid, cv= 5)\n",
        "    CV_rf.fit(X_train, y_train)\n",
        "    y_pred = CV_rf.predict(X_test)\n",
        "    acc_RF = accuracy_score(y_test,y_pred)\n",
        "    print(\"Accuracy for Random Forest after CV: \", acc_RF)\n",
        "    results[CV_rf] = acc_RF\n",
        "    \n",
        "    ## KNN\n",
        "    clf_knn = KNeighborsClassifier()\n",
        "    param_grid = [{ \n",
        "        'n_neighbors': np.arange(8,20)\n",
        "    }]\n",
        "    CV_knn= GridSearchCV(estimator=clf_knn, param_grid=param_grid, cv= 5)\n",
        "    CV_knn.fit(X_train, y_train)\n",
        "    y_pred = CV_knn.predict(X_test)\n",
        "    acc_KNN = accuracy_score(y_test,y_pred)\n",
        "    print(\"Accuracy for KNN after CV data: \",acc_KNN)\n",
        "    results[CV_knn] = acc_KNN\n",
        "    \n",
        "    ## Voting Classifier\n",
        "    eclf1 = VotingClassifier(estimators=[('nb', clf_bnb), ('rf', CV_rf), ('knn', CV_knn)], voting='hard')\n",
        "    eclf1 = eclf1.fit(X_train, y_train)\n",
        "    ypred = eclf1.predict(X_test)\n",
        "    acc_VC = accuracy_score(y_test,ypred)\n",
        "    print(\"Accuracy for voting classifier: \",acc_VC)\n",
        "    results[eclf1] = acc_VC\n",
        "    \n",
        "    best_estimator = max(results, key=lambda k: results[k])\n",
        "    return results,best_estimator\n",
        "    "
      ],
      "execution_count": 27,
      "outputs": []
    },
    {
      "cell_type": "code",
      "metadata": {
        "id": "acoGCNZ6UaUC",
        "colab_type": "code",
        "colab": {}
      },
      "source": [
        "# def train_pipeline(df):\n",
        "    ## Steps\n",
        "    # 1.Reading files\n",
        "#     df = read_files(filename)\n",
        "    # 2. Checking for imbalance in data\n",
        "#     df = rebalance_data(df)\n",
        "    # 3. Text Cleaning \n",
        "    # df = clean_text_df(df)\n",
        "    # # 4. Sentiment based features\n",
        "    # df = get_sentiment_features(df)\n",
        "    # # 5. Data Transformation\n",
        "    # df_input,vect = data_transformation(df)\n",
        "    # # 6. Model Selection \n",
        "    # trained_classifier = model_selection(df_input)\n",
        "    # return trained_classifier, vect"
      ],
      "execution_count": 28,
      "outputs": []
    },
    {
      "cell_type": "code",
      "metadata": {
        "id": "3xZKuKXb3_sI",
        "colab_type": "code",
        "colab": {}
      },
      "source": [
        ""
      ],
      "execution_count": 28,
      "outputs": []
    },
    {
      "cell_type": "code",
      "metadata": {
        "id": "D65KDY4SUaUH",
        "colab_type": "code",
        "colab": {
          "base_uri": "https://localhost:8080/",
          "height": 118
        },
        "outputId": "8f74e729-bf6a-411e-8247-07358e6ba67b"
      },
      "source": [
        "# classifier,vect = train_pipeline(df_final)\n",
        "df_final = clean_text_df(df_final)"
      ],
      "execution_count": 29,
      "outputs": [
        {
          "output_type": "stream",
          "text": [
            "/usr/local/lib/python3.6/dist-packages/ipykernel_launcher.py:2: SettingWithCopyWarning: \n",
            "A value is trying to be set on a copy of a slice from a DataFrame.\n",
            "Try using .loc[row_indexer,col_indexer] = value instead\n",
            "\n",
            "See the caveats in the documentation: https://pandas.pydata.org/pandas-docs/stable/user_guide/indexing.html#returning-a-view-versus-a-copy\n",
            "  \n"
          ],
          "name": "stderr"
        }
      ]
    },
    {
      "cell_type": "code",
      "metadata": {
        "id": "Xb2lioO1UaUN",
        "colab_type": "code",
        "colab": {
          "base_uri": "https://localhost:8080/",
          "height": 195
        },
        "outputId": "44349fce-91cb-49c7-96c2-46a07f9506af"
      },
      "source": [
        "df_final.head()"
      ],
      "execution_count": 30,
      "outputs": [
        {
          "output_type": "execute_result",
          "data": {
            "text/html": [
              "<div>\n",
              "<style scoped>\n",
              "    .dataframe tbody tr th:only-of-type {\n",
              "        vertical-align: middle;\n",
              "    }\n",
              "\n",
              "    .dataframe tbody tr th {\n",
              "        vertical-align: top;\n",
              "    }\n",
              "\n",
              "    .dataframe thead th {\n",
              "        text-align: right;\n",
              "    }\n",
              "</style>\n",
              "<table border=\"1\" class=\"dataframe\">\n",
              "  <thead>\n",
              "    <tr style=\"text-align: right;\">\n",
              "      <th></th>\n",
              "      <th>text</th>\n",
              "      <th>label</th>\n",
              "      <th>text_noun_cleaned</th>\n",
              "    </tr>\n",
              "  </thead>\n",
              "  <tbody>\n",
              "    <tr>\n",
              "      <th>0</th>\n",
              "      <td>Police have arrested a 20-year-old man suspect...</td>\n",
              "      <td>0</td>\n",
              "      <td>arrest 20yearold use automatic new eve downtow...</td>\n",
              "    </tr>\n",
              "    <tr>\n",
              "      <th>1</th>\n",
              "      <td>A U.S. House of Representatives committee on T...</td>\n",
              "      <td>0</td>\n",
              "      <td>a us representatives tuesday approve agricultu...</td>\n",
              "    </tr>\n",
              "    <tr>\n",
              "      <th>2</th>\n",
              "      <td>President-elect Donald Trump announced the for...</td>\n",
              "      <td>0</td>\n",
              "      <td>donald trump advise leaders major us corporati...</td>\n",
              "    </tr>\n",
              "    <tr>\n",
              "      <th>3</th>\n",
              "      <td>Thailand on Friday held a nationwide Buddhist ...</td>\n",
              "      <td>0</td>\n",
              "      <td>hold nationwide almsgiving since king adulyade...</td>\n",
              "    </tr>\n",
              "    <tr>\n",
              "      <th>4</th>\n",
              "      <td>Three competing plans for battling a potential...</td>\n",
              "      <td>0</td>\n",
              "      <td>three compete potential zika unite present us ...</td>\n",
              "    </tr>\n",
              "  </tbody>\n",
              "</table>\n",
              "</div>"
            ],
            "text/plain": [
              "                                                text  ...                                  text_noun_cleaned\n",
              "0  Police have arrested a 20-year-old man suspect...  ...  arrest 20yearold use automatic new eve downtow...\n",
              "1  A U.S. House of Representatives committee on T...  ...  a us representatives tuesday approve agricultu...\n",
              "2  President-elect Donald Trump announced the for...  ...  donald trump advise leaders major us corporati...\n",
              "3  Thailand on Friday held a nationwide Buddhist ...  ...  hold nationwide almsgiving since king adulyade...\n",
              "4  Three competing plans for battling a potential...  ...  three compete potential zika unite present us ...\n",
              "\n",
              "[5 rows x 3 columns]"
            ]
          },
          "metadata": {
            "tags": []
          },
          "execution_count": 30
        }
      ]
    },
    {
      "cell_type": "code",
      "metadata": {
        "id": "uNDlsGU6ar_M",
        "colab_type": "code",
        "colab": {
          "base_uri": "https://localhost:8080/",
          "height": 218
        },
        "outputId": "d4b3cf12-3d29-4a6e-970e-34584c10495f"
      },
      "source": [
        "df_final = get_sentiment_features(df_final)"
      ],
      "execution_count": 31,
      "outputs": [
        {
          "output_type": "stream",
          "text": [
            "/usr/local/lib/python3.6/dist-packages/ipykernel_launcher.py:2: SettingWithCopyWarning: \n",
            "A value is trying to be set on a copy of a slice from a DataFrame.\n",
            "Try using .loc[row_indexer,col_indexer] = value instead\n",
            "\n",
            "See the caveats in the documentation: https://pandas.pydata.org/pandas-docs/stable/user_guide/indexing.html#returning-a-view-versus-a-copy\n",
            "  \n",
            "/usr/local/lib/python3.6/dist-packages/ipykernel_launcher.py:3: SettingWithCopyWarning: \n",
            "A value is trying to be set on a copy of a slice from a DataFrame.\n",
            "Try using .loc[row_indexer,col_indexer] = value instead\n",
            "\n",
            "See the caveats in the documentation: https://pandas.pydata.org/pandas-docs/stable/user_guide/indexing.html#returning-a-view-versus-a-copy\n",
            "  This is separate from the ipykernel package so we can avoid doing imports until\n"
          ],
          "name": "stderr"
        }
      ]
    },
    {
      "cell_type": "code",
      "metadata": {
        "id": "DG4E1T6jUaUS",
        "colab_type": "code",
        "colab": {}
      },
      "source": [
        "df_input,vect = data_transformation(df_final)"
      ],
      "execution_count": 32,
      "outputs": []
    },
    {
      "cell_type": "code",
      "metadata": {
        "id": "bQ6SizMUuhgW",
        "colab_type": "code",
        "colab": {
          "base_uri": "https://localhost:8080/",
          "height": 261
        },
        "outputId": "781ad559-6ad0-4ca4-ddf6-85f8ca6bce54"
      },
      "source": [
        "df_input.head()"
      ],
      "execution_count": 33,
      "outputs": [
        {
          "output_type": "execute_result",
          "data": {
            "text/html": [
              "<div>\n",
              "<style scoped>\n",
              "    .dataframe tbody tr th:only-of-type {\n",
              "        vertical-align: middle;\n",
              "    }\n",
              "\n",
              "    .dataframe tbody tr th {\n",
              "        vertical-align: top;\n",
              "    }\n",
              "\n",
              "    .dataframe thead th {\n",
              "        text-align: right;\n",
              "    }\n",
              "</style>\n",
              "<table border=\"1\" class=\"dataframe\">\n",
              "  <thead>\n",
              "    <tr style=\"text-align: right;\">\n",
              "      <th></th>\n",
              "      <th>2016</th>\n",
              "      <th>add</th>\n",
              "      <th>allow</th>\n",
              "      <th>already</th>\n",
              "      <th>also</th>\n",
              "      <th>america</th>\n",
              "      <th>american</th>\n",
              "      <th>americans</th>\n",
              "      <th>among</th>\n",
              "      <th>and</th>\n",
              "      <th>another</th>\n",
              "      <th>appear</th>\n",
              "      <th>around</th>\n",
              "      <th>as</th>\n",
              "      <th>ask</th>\n",
              "      <th>back</th>\n",
              "      <th>become</th>\n",
              "      <th>believe</th>\n",
              "      <th>but</th>\n",
              "      <th>call</th>\n",
              "      <th>clear</th>\n",
              "      <th>close</th>\n",
              "      <th>come</th>\n",
              "      <th>continue</th>\n",
              "      <th>could</th>\n",
              "      <th>countries</th>\n",
              "      <th>days</th>\n",
              "      <th>democratic</th>\n",
              "      <th>democrats</th>\n",
              "      <th>do</th>\n",
              "      <th>donald</th>\n",
              "      <th>donald trump</th>\n",
              "      <th>earlier</th>\n",
              "      <th>even</th>\n",
              "      <th>every</th>\n",
              "      <th>expect</th>\n",
              "      <th>far</th>\n",
              "      <th>federal</th>\n",
              "      <th>find</th>\n",
              "      <th>first</th>\n",
              "      <th>...</th>\n",
              "      <th>set</th>\n",
              "      <th>several</th>\n",
              "      <th>show</th>\n",
              "      <th>since</th>\n",
              "      <th>speak</th>\n",
              "      <th>still</th>\n",
              "      <th>take</th>\n",
              "      <th>tell</th>\n",
              "      <th>that</th>\n",
              "      <th>the</th>\n",
              "      <th>there</th>\n",
              "      <th>they</th>\n",
              "      <th>think</th>\n",
              "      <th>this</th>\n",
              "      <th>though</th>\n",
              "      <th>three</th>\n",
              "      <th>thursday</th>\n",
              "      <th>top</th>\n",
              "      <th>trump</th>\n",
              "      <th>try</th>\n",
              "      <th>tuesday</th>\n",
              "      <th>two</th>\n",
              "      <th>unite</th>\n",
              "      <th>us</th>\n",
              "      <th>use</th>\n",
              "      <th>via</th>\n",
              "      <th>want</th>\n",
              "      <th>we</th>\n",
              "      <th>wednesday</th>\n",
              "      <th>well</th>\n",
              "      <th>whether</th>\n",
              "      <th>white</th>\n",
              "      <th>without</th>\n",
              "      <th>would</th>\n",
              "      <th>write</th>\n",
              "      <th>years</th>\n",
              "      <th>you</th>\n",
              "      <th>label</th>\n",
              "      <th>polarity</th>\n",
              "      <th>subjectivity</th>\n",
              "    </tr>\n",
              "  </thead>\n",
              "  <tbody>\n",
              "    <tr>\n",
              "      <th>0</th>\n",
              "      <td>0.192811</td>\n",
              "      <td>0.000000</td>\n",
              "      <td>0.000000</td>\n",
              "      <td>0.000000</td>\n",
              "      <td>0.115796</td>\n",
              "      <td>0.00000</td>\n",
              "      <td>0.000000</td>\n",
              "      <td>0.0</td>\n",
              "      <td>0.000000</td>\n",
              "      <td>0.0</td>\n",
              "      <td>0.0</td>\n",
              "      <td>0.0</td>\n",
              "      <td>0.192725</td>\n",
              "      <td>0.000000</td>\n",
              "      <td>0.000000</td>\n",
              "      <td>0.000000</td>\n",
              "      <td>0.000000</td>\n",
              "      <td>0.0</td>\n",
              "      <td>0.0</td>\n",
              "      <td>0.0</td>\n",
              "      <td>0.000000</td>\n",
              "      <td>0.0</td>\n",
              "      <td>0.0</td>\n",
              "      <td>0.000000</td>\n",
              "      <td>0.000000</td>\n",
              "      <td>0.0</td>\n",
              "      <td>0.000000</td>\n",
              "      <td>0.000000</td>\n",
              "      <td>0.0</td>\n",
              "      <td>0.00000</td>\n",
              "      <td>0.000000</td>\n",
              "      <td>0.000000</td>\n",
              "      <td>0.000000</td>\n",
              "      <td>0.000000</td>\n",
              "      <td>0.000000</td>\n",
              "      <td>0.000000</td>\n",
              "      <td>0.000000</td>\n",
              "      <td>0.185521</td>\n",
              "      <td>0.0</td>\n",
              "      <td>0.000000</td>\n",
              "      <td>...</td>\n",
              "      <td>0.0</td>\n",
              "      <td>0.0</td>\n",
              "      <td>0.0</td>\n",
              "      <td>0.458450</td>\n",
              "      <td>0.000000</td>\n",
              "      <td>0.000000</td>\n",
              "      <td>0.000000</td>\n",
              "      <td>0.0</td>\n",
              "      <td>0.000000</td>\n",
              "      <td>0.154529</td>\n",
              "      <td>0.0</td>\n",
              "      <td>0.00000</td>\n",
              "      <td>0.0</td>\n",
              "      <td>0.0</td>\n",
              "      <td>0.000000</td>\n",
              "      <td>0.000000</td>\n",
              "      <td>0.000000</td>\n",
              "      <td>0.000000</td>\n",
              "      <td>0.000000</td>\n",
              "      <td>0.000000</td>\n",
              "      <td>0.197964</td>\n",
              "      <td>0.000000</td>\n",
              "      <td>0.000000</td>\n",
              "      <td>0.110047</td>\n",
              "      <td>0.384713</td>\n",
              "      <td>0.0</td>\n",
              "      <td>0.0</td>\n",
              "      <td>0.142149</td>\n",
              "      <td>0.00000</td>\n",
              "      <td>0.000000</td>\n",
              "      <td>0.000000</td>\n",
              "      <td>0.000000</td>\n",
              "      <td>0.0</td>\n",
              "      <td>0.000000</td>\n",
              "      <td>0.0</td>\n",
              "      <td>0.000000</td>\n",
              "      <td>0.0</td>\n",
              "      <td>0</td>\n",
              "      <td>0.086722</td>\n",
              "      <td>0.398724</td>\n",
              "    </tr>\n",
              "    <tr>\n",
              "      <th>1</th>\n",
              "      <td>0.000000</td>\n",
              "      <td>0.000000</td>\n",
              "      <td>0.302210</td>\n",
              "      <td>0.220498</td>\n",
              "      <td>0.000000</td>\n",
              "      <td>0.00000</td>\n",
              "      <td>0.094105</td>\n",
              "      <td>0.0</td>\n",
              "      <td>0.000000</td>\n",
              "      <td>0.0</td>\n",
              "      <td>0.0</td>\n",
              "      <td>0.0</td>\n",
              "      <td>0.000000</td>\n",
              "      <td>0.000000</td>\n",
              "      <td>0.000000</td>\n",
              "      <td>0.000000</td>\n",
              "      <td>0.000000</td>\n",
              "      <td>0.0</td>\n",
              "      <td>0.0</td>\n",
              "      <td>0.0</td>\n",
              "      <td>0.108586</td>\n",
              "      <td>0.0</td>\n",
              "      <td>0.0</td>\n",
              "      <td>0.000000</td>\n",
              "      <td>0.000000</td>\n",
              "      <td>0.0</td>\n",
              "      <td>0.000000</td>\n",
              "      <td>0.094197</td>\n",
              "      <td>0.0</td>\n",
              "      <td>0.00000</td>\n",
              "      <td>0.000000</td>\n",
              "      <td>0.000000</td>\n",
              "      <td>0.000000</td>\n",
              "      <td>0.000000</td>\n",
              "      <td>0.000000</td>\n",
              "      <td>0.106344</td>\n",
              "      <td>0.112416</td>\n",
              "      <td>0.000000</td>\n",
              "      <td>0.0</td>\n",
              "      <td>0.079937</td>\n",
              "      <td>...</td>\n",
              "      <td>0.0</td>\n",
              "      <td>0.0</td>\n",
              "      <td>0.0</td>\n",
              "      <td>0.082956</td>\n",
              "      <td>0.000000</td>\n",
              "      <td>0.000000</td>\n",
              "      <td>0.000000</td>\n",
              "      <td>0.0</td>\n",
              "      <td>0.000000</td>\n",
              "      <td>0.335542</td>\n",
              "      <td>0.0</td>\n",
              "      <td>0.00000</td>\n",
              "      <td>0.0</td>\n",
              "      <td>0.0</td>\n",
              "      <td>0.000000</td>\n",
              "      <td>0.000000</td>\n",
              "      <td>0.000000</td>\n",
              "      <td>0.000000</td>\n",
              "      <td>0.000000</td>\n",
              "      <td>0.000000</td>\n",
              "      <td>0.107464</td>\n",
              "      <td>0.000000</td>\n",
              "      <td>0.079709</td>\n",
              "      <td>0.119477</td>\n",
              "      <td>0.000000</td>\n",
              "      <td>0.0</td>\n",
              "      <td>0.0</td>\n",
              "      <td>0.077165</td>\n",
              "      <td>0.00000</td>\n",
              "      <td>0.095423</td>\n",
              "      <td>0.103228</td>\n",
              "      <td>0.000000</td>\n",
              "      <td>0.0</td>\n",
              "      <td>0.334894</td>\n",
              "      <td>0.0</td>\n",
              "      <td>0.000000</td>\n",
              "      <td>0.0</td>\n",
              "      <td>0</td>\n",
              "      <td>0.088681</td>\n",
              "      <td>0.451894</td>\n",
              "    </tr>\n",
              "    <tr>\n",
              "      <th>2</th>\n",
              "      <td>0.000000</td>\n",
              "      <td>0.092508</td>\n",
              "      <td>0.000000</td>\n",
              "      <td>0.000000</td>\n",
              "      <td>0.057622</td>\n",
              "      <td>0.10275</td>\n",
              "      <td>0.000000</td>\n",
              "      <td>0.0</td>\n",
              "      <td>0.000000</td>\n",
              "      <td>0.0</td>\n",
              "      <td>0.0</td>\n",
              "      <td>0.0</td>\n",
              "      <td>0.000000</td>\n",
              "      <td>0.000000</td>\n",
              "      <td>0.275334</td>\n",
              "      <td>0.075755</td>\n",
              "      <td>0.000000</td>\n",
              "      <td>0.0</td>\n",
              "      <td>0.0</td>\n",
              "      <td>0.0</td>\n",
              "      <td>0.000000</td>\n",
              "      <td>0.0</td>\n",
              "      <td>0.0</td>\n",
              "      <td>0.091125</td>\n",
              "      <td>0.135707</td>\n",
              "      <td>0.0</td>\n",
              "      <td>0.000000</td>\n",
              "      <td>0.000000</td>\n",
              "      <td>0.0</td>\n",
              "      <td>0.10242</td>\n",
              "      <td>0.069771</td>\n",
              "      <td>0.086761</td>\n",
              "      <td>0.102385</td>\n",
              "      <td>0.000000</td>\n",
              "      <td>0.000000</td>\n",
              "      <td>0.000000</td>\n",
              "      <td>0.000000</td>\n",
              "      <td>0.000000</td>\n",
              "      <td>0.0</td>\n",
              "      <td>0.000000</td>\n",
              "      <td>...</td>\n",
              "      <td>0.0</td>\n",
              "      <td>0.0</td>\n",
              "      <td>0.0</td>\n",
              "      <td>0.000000</td>\n",
              "      <td>0.208034</td>\n",
              "      <td>0.089798</td>\n",
              "      <td>0.000000</td>\n",
              "      <td>0.0</td>\n",
              "      <td>0.000000</td>\n",
              "      <td>0.153792</td>\n",
              "      <td>0.0</td>\n",
              "      <td>0.00000</td>\n",
              "      <td>0.0</td>\n",
              "      <td>0.0</td>\n",
              "      <td>0.000000</td>\n",
              "      <td>0.096244</td>\n",
              "      <td>0.000000</td>\n",
              "      <td>0.102489</td>\n",
              "      <td>0.358553</td>\n",
              "      <td>0.000000</td>\n",
              "      <td>0.000000</td>\n",
              "      <td>0.071232</td>\n",
              "      <td>0.000000</td>\n",
              "      <td>0.109522</td>\n",
              "      <td>0.000000</td>\n",
              "      <td>0.0</td>\n",
              "      <td>0.0</td>\n",
              "      <td>0.000000</td>\n",
              "      <td>0.00000</td>\n",
              "      <td>0.000000</td>\n",
              "      <td>0.000000</td>\n",
              "      <td>0.000000</td>\n",
              "      <td>0.0</td>\n",
              "      <td>0.000000</td>\n",
              "      <td>0.0</td>\n",
              "      <td>0.000000</td>\n",
              "      <td>0.0</td>\n",
              "      <td>0</td>\n",
              "      <td>0.011111</td>\n",
              "      <td>0.351146</td>\n",
              "    </tr>\n",
              "    <tr>\n",
              "      <th>3</th>\n",
              "      <td>0.000000</td>\n",
              "      <td>0.000000</td>\n",
              "      <td>0.177741</td>\n",
              "      <td>0.000000</td>\n",
              "      <td>0.000000</td>\n",
              "      <td>0.00000</td>\n",
              "      <td>0.000000</td>\n",
              "      <td>0.0</td>\n",
              "      <td>0.200456</td>\n",
              "      <td>0.0</td>\n",
              "      <td>0.0</td>\n",
              "      <td>0.0</td>\n",
              "      <td>0.000000</td>\n",
              "      <td>0.202095</td>\n",
              "      <td>0.000000</td>\n",
              "      <td>0.000000</td>\n",
              "      <td>0.000000</td>\n",
              "      <td>0.0</td>\n",
              "      <td>0.0</td>\n",
              "      <td>0.0</td>\n",
              "      <td>0.000000</td>\n",
              "      <td>0.0</td>\n",
              "      <td>0.0</td>\n",
              "      <td>0.000000</td>\n",
              "      <td>0.000000</td>\n",
              "      <td>0.0</td>\n",
              "      <td>0.192574</td>\n",
              "      <td>0.000000</td>\n",
              "      <td>0.0</td>\n",
              "      <td>0.00000</td>\n",
              "      <td>0.000000</td>\n",
              "      <td>0.000000</td>\n",
              "      <td>0.000000</td>\n",
              "      <td>0.000000</td>\n",
              "      <td>0.192019</td>\n",
              "      <td>0.000000</td>\n",
              "      <td>0.000000</td>\n",
              "      <td>0.000000</td>\n",
              "      <td>0.0</td>\n",
              "      <td>0.000000</td>\n",
              "      <td>...</td>\n",
              "      <td>0.0</td>\n",
              "      <td>0.0</td>\n",
              "      <td>0.0</td>\n",
              "      <td>0.146368</td>\n",
              "      <td>0.000000</td>\n",
              "      <td>0.172842</td>\n",
              "      <td>0.000000</td>\n",
              "      <td>0.0</td>\n",
              "      <td>0.000000</td>\n",
              "      <td>0.148008</td>\n",
              "      <td>0.0</td>\n",
              "      <td>0.00000</td>\n",
              "      <td>0.0</td>\n",
              "      <td>0.0</td>\n",
              "      <td>0.200809</td>\n",
              "      <td>0.000000</td>\n",
              "      <td>0.000000</td>\n",
              "      <td>0.000000</td>\n",
              "      <td>0.000000</td>\n",
              "      <td>0.000000</td>\n",
              "      <td>0.000000</td>\n",
              "      <td>0.137106</td>\n",
              "      <td>0.000000</td>\n",
              "      <td>0.000000</td>\n",
              "      <td>0.000000</td>\n",
              "      <td>0.0</td>\n",
              "      <td>0.0</td>\n",
              "      <td>0.136150</td>\n",
              "      <td>0.00000</td>\n",
              "      <td>0.000000</td>\n",
              "      <td>0.000000</td>\n",
              "      <td>0.000000</td>\n",
              "      <td>0.0</td>\n",
              "      <td>0.098482</td>\n",
              "      <td>0.0</td>\n",
              "      <td>0.149956</td>\n",
              "      <td>0.0</td>\n",
              "      <td>0</td>\n",
              "      <td>0.095050</td>\n",
              "      <td>0.388784</td>\n",
              "    </tr>\n",
              "    <tr>\n",
              "      <th>4</th>\n",
              "      <td>0.000000</td>\n",
              "      <td>0.000000</td>\n",
              "      <td>0.000000</td>\n",
              "      <td>0.000000</td>\n",
              "      <td>0.073978</td>\n",
              "      <td>0.00000</td>\n",
              "      <td>0.110751</td>\n",
              "      <td>0.0</td>\n",
              "      <td>0.000000</td>\n",
              "      <td>0.0</td>\n",
              "      <td>0.0</td>\n",
              "      <td>0.0</td>\n",
              "      <td>0.000000</td>\n",
              "      <td>0.000000</td>\n",
              "      <td>0.000000</td>\n",
              "      <td>0.097258</td>\n",
              "      <td>0.120709</td>\n",
              "      <td>0.0</td>\n",
              "      <td>0.0</td>\n",
              "      <td>0.0</td>\n",
              "      <td>0.000000</td>\n",
              "      <td>0.0</td>\n",
              "      <td>0.0</td>\n",
              "      <td>0.116991</td>\n",
              "      <td>0.087114</td>\n",
              "      <td>0.0</td>\n",
              "      <td>0.000000</td>\n",
              "      <td>0.000000</td>\n",
              "      <td>0.0</td>\n",
              "      <td>0.00000</td>\n",
              "      <td>0.089576</td>\n",
              "      <td>0.000000</td>\n",
              "      <td>0.000000</td>\n",
              "      <td>0.094942</td>\n",
              "      <td>0.000000</td>\n",
              "      <td>0.125155</td>\n",
              "      <td>0.000000</td>\n",
              "      <td>0.000000</td>\n",
              "      <td>0.0</td>\n",
              "      <td>0.094077</td>\n",
              "      <td>...</td>\n",
              "      <td>0.0</td>\n",
              "      <td>0.0</td>\n",
              "      <td>0.0</td>\n",
              "      <td>0.000000</td>\n",
              "      <td>0.000000</td>\n",
              "      <td>0.000000</td>\n",
              "      <td>0.152995</td>\n",
              "      <td>0.0</td>\n",
              "      <td>0.112274</td>\n",
              "      <td>0.098724</td>\n",
              "      <td>0.0</td>\n",
              "      <td>0.11315</td>\n",
              "      <td>0.0</td>\n",
              "      <td>0.0</td>\n",
              "      <td>0.000000</td>\n",
              "      <td>0.123564</td>\n",
              "      <td>0.128202</td>\n",
              "      <td>0.000000</td>\n",
              "      <td>0.000000</td>\n",
              "      <td>0.124063</td>\n",
              "      <td>0.000000</td>\n",
              "      <td>0.182903</td>\n",
              "      <td>0.093808</td>\n",
              "      <td>0.140611</td>\n",
              "      <td>0.000000</td>\n",
              "      <td>0.0</td>\n",
              "      <td>0.0</td>\n",
              "      <td>0.000000</td>\n",
              "      <td>0.12525</td>\n",
              "      <td>0.224604</td>\n",
              "      <td>0.000000</td>\n",
              "      <td>0.100694</td>\n",
              "      <td>0.0</td>\n",
              "      <td>0.328443</td>\n",
              "      <td>0.0</td>\n",
              "      <td>0.000000</td>\n",
              "      <td>0.0</td>\n",
              "      <td>0</td>\n",
              "      <td>0.087153</td>\n",
              "      <td>0.391792</td>\n",
              "    </tr>\n",
              "  </tbody>\n",
              "</table>\n",
              "<p>5 rows × 155 columns</p>\n",
              "</div>"
            ],
            "text/plain": [
              "       2016       add     allow   already  ...  you  label  polarity  subjectivity\n",
              "0  0.192811  0.000000  0.000000  0.000000  ...  0.0      0  0.086722      0.398724\n",
              "1  0.000000  0.000000  0.302210  0.220498  ...  0.0      0  0.088681      0.451894\n",
              "2  0.000000  0.092508  0.000000  0.000000  ...  0.0      0  0.011111      0.351146\n",
              "3  0.000000  0.000000  0.177741  0.000000  ...  0.0      0  0.095050      0.388784\n",
              "4  0.000000  0.000000  0.000000  0.000000  ...  0.0      0  0.087153      0.391792\n",
              "\n",
              "[5 rows x 155 columns]"
            ]
          },
          "metadata": {
            "tags": []
          },
          "execution_count": 33
        }
      ]
    },
    {
      "cell_type": "code",
      "metadata": {
        "id": "kCEZA-aDUaUc",
        "colab_type": "code",
        "colab": {
          "base_uri": "https://localhost:8080/",
          "height": 84
        },
        "outputId": "815c597d-2b83-4c54-f6da-2ea78d1205c0"
      },
      "source": [
        "results,trained_classifier = model_selection(df_input)"
      ],
      "execution_count": 34,
      "outputs": [
        {
          "output_type": "stream",
          "text": [
            "Accuracy for BNB model without any tuning:  0.910803324099723\n",
            "Accuracy for Random Forest after CV:  0.9364727608494922\n",
            "Accuracy for KNN after CV data:  0.881994459833795\n",
            "Accuracy for voting classifier:  0.9311172668513389\n"
          ],
          "name": "stdout"
        }
      ]
    },
    {
      "cell_type": "markdown",
      "metadata": {
        "id": "k2lrNFZhxXem",
        "colab_type": "text"
      },
      "source": [
        "Checking the feature importances of the best model - Random Forest Model"
      ]
    },
    {
      "cell_type": "code",
      "metadata": {
        "id": "zSmLWJ9CUaUh",
        "colab_type": "code",
        "colab": {}
      },
      "source": [
        "## Random Forest Estimator\n",
        "rf_gridsearch_est = list(results.keys())[1]"
      ],
      "execution_count": 35,
      "outputs": []
    },
    {
      "cell_type": "code",
      "metadata": {
        "id": "zkSMExqgdg1f",
        "colab_type": "code",
        "colab": {
          "base_uri": "https://localhost:8080/",
          "height": 343
        },
        "outputId": "6781654c-a298-4408-a8bc-296bdf9f8907"
      },
      "source": [
        "df_feature_importances = pd.DataFrame()\n",
        "l = list(df_input.columns)\n",
        "l.remove('label')\n",
        "df_feature_importances['Features'] = l\n",
        "df_feature_importances['Feature Importances']=rf_gridsearch_est.best_estimator_.feature_importances_\n",
        "df_feature_importances.sort_values(by='Feature Importances',ascending=False).head(10)"
      ],
      "execution_count": 36,
      "outputs": [
        {
          "output_type": "execute_result",
          "data": {
            "text/html": [
              "<div>\n",
              "<style scoped>\n",
              "    .dataframe tbody tr th:only-of-type {\n",
              "        vertical-align: middle;\n",
              "    }\n",
              "\n",
              "    .dataframe tbody tr th {\n",
              "        vertical-align: top;\n",
              "    }\n",
              "\n",
              "    .dataframe thead th {\n",
              "        text-align: right;\n",
              "    }\n",
              "</style>\n",
              "<table border=\"1\" class=\"dataframe\">\n",
              "  <thead>\n",
              "    <tr style=\"text-align: right;\">\n",
              "      <th></th>\n",
              "      <th>Features</th>\n",
              "      <th>Feature Importances</th>\n",
              "    </tr>\n",
              "  </thead>\n",
              "  <tbody>\n",
              "    <tr>\n",
              "      <th>140</th>\n",
              "      <td>via</td>\n",
              "      <td>0.193898</td>\n",
              "    </tr>\n",
              "    <tr>\n",
              "      <th>110</th>\n",
              "      <td>say</td>\n",
              "      <td>0.140760</td>\n",
              "    </tr>\n",
              "    <tr>\n",
              "      <th>153</th>\n",
              "      <td>subjectivity</td>\n",
              "      <td>0.061598</td>\n",
              "    </tr>\n",
              "    <tr>\n",
              "      <th>124</th>\n",
              "      <td>the</td>\n",
              "      <td>0.051641</td>\n",
              "    </tr>\n",
              "    <tr>\n",
              "      <th>69</th>\n",
              "      <td>like</td>\n",
              "      <td>0.048519</td>\n",
              "    </tr>\n",
              "    <tr>\n",
              "      <th>107</th>\n",
              "      <td>reuters</td>\n",
              "      <td>0.039987</td>\n",
              "    </tr>\n",
              "    <tr>\n",
              "      <th>45</th>\n",
              "      <td>get</td>\n",
              "      <td>0.037779</td>\n",
              "    </tr>\n",
              "    <tr>\n",
              "      <th>138</th>\n",
              "      <td>us</td>\n",
              "      <td>0.034950</td>\n",
              "    </tr>\n",
              "    <tr>\n",
              "      <th>47</th>\n",
              "      <td>go</td>\n",
              "      <td>0.025444</td>\n",
              "    </tr>\n",
              "    <tr>\n",
              "      <th>33</th>\n",
              "      <td>even</td>\n",
              "      <td>0.025037</td>\n",
              "    </tr>\n",
              "  </tbody>\n",
              "</table>\n",
              "</div>"
            ],
            "text/plain": [
              "         Features  Feature Importances\n",
              "140           via             0.193898\n",
              "110           say             0.140760\n",
              "153  subjectivity             0.061598\n",
              "124           the             0.051641\n",
              "69           like             0.048519\n",
              "107       reuters             0.039987\n",
              "45            get             0.037779\n",
              "138            us             0.034950\n",
              "47             go             0.025444\n",
              "33           even             0.025037"
            ]
          },
          "metadata": {
            "tags": []
          },
          "execution_count": 36
        }
      ]
    },
    {
      "cell_type": "code",
      "metadata": {
        "id": "XmhMRshrvkUY",
        "colab_type": "code",
        "colab": {
          "base_uri": "https://localhost:8080/",
          "height": 343
        },
        "outputId": "b8cd1ffa-892b-4571-c04a-1263a47b4fd9"
      },
      "source": [
        "df_feature_importances.sort_values(by='Feature Importances',ascending=False).tail(10)"
      ],
      "execution_count": 37,
      "outputs": [
        {
          "output_type": "execute_result",
          "data": {
            "text/html": [
              "<div>\n",
              "<style scoped>\n",
              "    .dataframe tbody tr th:only-of-type {\n",
              "        vertical-align: middle;\n",
              "    }\n",
              "\n",
              "    .dataframe tbody tr th {\n",
              "        vertical-align: top;\n",
              "    }\n",
              "\n",
              "    .dataframe thead th {\n",
              "        text-align: right;\n",
              "    }\n",
              "</style>\n",
              "<table border=\"1\" class=\"dataframe\">\n",
              "  <thead>\n",
              "    <tr style=\"text-align: right;\">\n",
              "      <th></th>\n",
              "      <th>Features</th>\n",
              "      <th>Feature Importances</th>\n",
              "    </tr>\n",
              "  </thead>\n",
              "  <tbody>\n",
              "    <tr>\n",
              "      <th>116</th>\n",
              "      <td>several</td>\n",
              "      <td>0.000279</td>\n",
              "    </tr>\n",
              "    <tr>\n",
              "      <th>149</th>\n",
              "      <td>write</td>\n",
              "      <td>0.000271</td>\n",
              "    </tr>\n",
              "    <tr>\n",
              "      <th>44</th>\n",
              "      <td>general</td>\n",
              "      <td>0.000270</td>\n",
              "    </tr>\n",
              "    <tr>\n",
              "      <th>74</th>\n",
              "      <td>lose</td>\n",
              "      <td>0.000252</td>\n",
              "    </tr>\n",
              "    <tr>\n",
              "      <th>72</th>\n",
              "      <td>long</td>\n",
              "      <td>0.000250</td>\n",
              "    </tr>\n",
              "    <tr>\n",
              "      <th>20</th>\n",
              "      <td>clear</td>\n",
              "      <td>0.000234</td>\n",
              "    </tr>\n",
              "    <tr>\n",
              "      <th>70</th>\n",
              "      <td>likely</td>\n",
              "      <td>0.000233</td>\n",
              "    </tr>\n",
              "    <tr>\n",
              "      <th>54</th>\n",
              "      <td>however</td>\n",
              "      <td>0.000231</td>\n",
              "    </tr>\n",
              "    <tr>\n",
              "      <th>67</th>\n",
              "      <td>least</td>\n",
              "      <td>0.000205</td>\n",
              "    </tr>\n",
              "    <tr>\n",
              "      <th>36</th>\n",
              "      <td>far</td>\n",
              "      <td>0.000167</td>\n",
              "    </tr>\n",
              "  </tbody>\n",
              "</table>\n",
              "</div>"
            ],
            "text/plain": [
              "    Features  Feature Importances\n",
              "116  several             0.000279\n",
              "149    write             0.000271\n",
              "44   general             0.000270\n",
              "74      lose             0.000252\n",
              "72      long             0.000250\n",
              "20     clear             0.000234\n",
              "70    likely             0.000233\n",
              "54   however             0.000231\n",
              "67     least             0.000205\n",
              "36       far             0.000167"
            ]
          },
          "metadata": {
            "tags": []
          },
          "execution_count": 37
        }
      ]
    },
    {
      "cell_type": "markdown",
      "metadata": {
        "id": "9X0g-U3YyjCK",
        "colab_type": "text"
      },
      "source": [
        "From the above list, the features with the highest feature importance show that informal words such as 'via', "
      ]
    },
    {
      "cell_type": "code",
      "metadata": {
        "id": "snJLzejTxMCI",
        "colab_type": "code",
        "colab": {}
      },
      "source": [
        ""
      ],
      "execution_count": 37,
      "outputs": []
    }
  ]
}